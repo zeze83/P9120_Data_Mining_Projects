{
 "cells": [
  {
   "cell_type": "markdown",
   "id": "b5b7465b-97bd-4d58-8220-4cce36eb3814",
   "metadata": {},
   "source": [
    "## Overview "
   ]
  },
  {
   "cell_type": "markdown",
   "id": "be4b5da5-cc35-4a90-a8df-66a93bf8979e",
   "metadata": {},
   "source": [
    "Today I will talk about some basic functions and usage for `Python`, `Numpy` and `Pandas` which are popular tools for a wide range of applications. The goal for today's lab is to provide an overview get you familiarized with some of most basic usages due to time limit. For more in-depth understanding and functionalities, there are many great resources. Some contents for this lab is adpated from the ISLP (introduction to statistical learning in Python [https://github.com/intro-stat-learning/ISLP_labs/blob/stable/Ch02-statlearn-lab.ipynb](https://github.com/intro-stat-learning/ISLP_labs/blob/stable/Ch02-statlearn-lab.ipynb)). I will share this notebook on Canvas after class."
   ]
  },
  {
   "cell_type": "markdown",
   "id": "0d205bf5-ac11-4cd8-8342-914144e79c3d",
   "metadata": {},
   "source": [
    "# 1. Introduction to Python"
   ]
  },
  {
   "cell_type": "markdown",
   "id": "e2eae7cf-d33c-4ffa-82b2-f7d293b16fa2",
   "metadata": {},
   "source": [
    "`Python` tutorial: [docs.python.org/3/tutorial/](https://docs.python.org/3/tutorial/). "
   ]
  },
  {
   "cell_type": "markdown",
   "id": "409b68d2-4b21-46d6-b23f-b9afc237d237",
   "metadata": {},
   "source": [
    "## 1.1 Comments"
   ]
  },
  {
   "cell_type": "markdown",
   "id": "1947e7d0-bd89-4952-a2cf-b495df18b614",
   "metadata": {},
   "source": [
    "Comments in Python start with the **#** symbol and are used to explain code or make notes. Comments are ignored by the Python interpreter."
   ]
  },
  {
   "cell_type": "code",
   "execution_count": 20,
   "id": "6f56bfec-e38a-4dea-ae78-4ae8d7080645",
   "metadata": {},
   "outputs": [
    {
     "name": "stdout",
     "output_type": "stream",
     "text": [
      "hello\n"
     ]
    }
   ],
   "source": [
    "# This is a comment\n",
    "print(\"hello\")"
   ]
  },
  {
   "cell_type": "markdown",
   "id": "38326fb2-caa1-494a-b09f-5bf601726a34",
   "metadata": {},
   "source": [
    "## 1.2 Variables "
   ]
  },
  {
   "cell_type": "markdown",
   "id": "2ee9cbcf-e24c-4965-81f9-861ce0a05973",
   "metadata": {},
   "source": [
    "Variables are used to store data. In Python, you don’t need to declare the data type of a variable explicitly. Python will automatically infer the data type based on the value assigned to the variable."
   ]
  },
  {
   "cell_type": "code",
   "execution_count": 22,
   "id": "f54bcb65-b488-4759-abd0-e432d17a2925",
   "metadata": {},
   "outputs": [
    {
     "data": {
      "text/plain": [
       "10"
      ]
     },
     "execution_count": 22,
     "metadata": {},
     "output_type": "execute_result"
    }
   ],
   "source": [
    "a = 10 \n",
    "a"
   ]
  },
  {
   "cell_type": "markdown",
   "id": "e111065a-1505-4bde-9d66-aaf12b0ded92",
   "metadata": {},
   "source": [
    "## 1.3 Data types"
   ]
  },
  {
   "cell_type": "markdown",
   "id": "774d5542-3c75-4db8-a11d-77f2c387975c",
   "metadata": {},
   "source": [
    "Python supports various data types, including integers, floats, strings, lists, tuples, dictionaries, and more.\n",
    "\n",
    "Integers: Whole numbers without decimals. \\\n",
    "Floats: Numbers with decimals. \\\n",
    "Strings: Text enclosed in single or double quotes. \\\n",
    "Lists: Ordered collections of items. \\\n",
    "Tuples: Immutable collections of items. \\\n",
    "Dictionaries: Key-value pairs. "
   ]
  },
  {
   "cell_type": "code",
   "execution_count": 27,
   "id": "350d00d6-1c57-42b7-bd0b-7d40066ec9d2",
   "metadata": {},
   "outputs": [],
   "source": [
    "list_1 = [1, \"A\", True]\n",
    "list_1[0]\n",
    "list_1[:2]\n",
    "list_1.append(2) "
   ]
  },
  {
   "cell_type": "code",
   "execution_count": 28,
   "id": "ae5ac4f2-d6b0-46b7-ad5e-1b0b73a65baa",
   "metadata": {},
   "outputs": [
    {
     "ename": "AttributeError",
     "evalue": "'tuple' object has no attribute 'append'",
     "output_type": "error",
     "traceback": [
      "\u001b[0;31m---------------------------------------------------------------------------\u001b[0m",
      "\u001b[0;31mAttributeError\u001b[0m                            Traceback (most recent call last)",
      "Cell \u001b[0;32mIn[28], line 2\u001b[0m\n\u001b[1;32m      1\u001b[0m tup \u001b[38;5;241m=\u001b[39m (\u001b[38;5;241m0\u001b[39m, \u001b[38;5;241m1\u001b[39m)\n\u001b[0;32m----> 2\u001b[0m \u001b[43mtup\u001b[49m\u001b[38;5;241;43m.\u001b[39;49m\u001b[43mappend\u001b[49m(\u001b[38;5;241m2\u001b[39m)\n",
      "\u001b[0;31mAttributeError\u001b[0m: 'tuple' object has no attribute 'append'"
     ]
    }
   ],
   "source": [
    "tup = (0, 1)\n",
    "tup.append(2)"
   ]
  },
  {
   "cell_type": "code",
   "execution_count": 30,
   "id": "a340594d-5d65-4fea-a336-a41632f4c878",
   "metadata": {},
   "outputs": [
    {
     "data": {
      "text/plain": [
       "{1, 2, 3}"
      ]
     },
     "execution_count": 30,
     "metadata": {},
     "output_type": "execute_result"
    }
   ],
   "source": [
    "set_1 = {1, 2, 3, 1}\n",
    "set_1"
   ]
  },
  {
   "cell_type": "code",
   "execution_count": 34,
   "id": "b0708b41-6eb1-4bd3-b2a8-8f7b92beb1d3",
   "metadata": {},
   "outputs": [
    {
     "data": {
      "text/plain": [
       "1"
      ]
     },
     "execution_count": 34,
     "metadata": {},
     "output_type": "execute_result"
    }
   ],
   "source": [
    "dict_1 = {\"a\": 1, \n",
    "         \"b\": 2}\n",
    "dict_1.keys()\n",
    "dict_1.values()\n",
    "dict_1[\"a\"] "
   ]
  },
  {
   "cell_type": "markdown",
   "id": "f60adf33-b8e9-42b4-91e1-7c301c414c9d",
   "metadata": {},
   "source": [
    "## 1.4 Indentation"
   ]
  },
  {
   "cell_type": "markdown",
   "id": "b8a4f838-d41e-41d4-bb8a-c9739177e045",
   "metadata": {},
   "source": [
    "Python uses indentation to define blocks of code, such as loops and functions. Use four spaces for indentation. Incorrect indentation can lead to syntax errors."
   ]
  },
  {
   "cell_type": "code",
   "execution_count": 35,
   "id": "b1193c9e-af0a-43f8-ba72-58efb8c57718",
   "metadata": {},
   "outputs": [
    {
     "ename": "IndentationError",
     "evalue": "expected an indented block after function definition on line 1 (2551259297.py, line 2)",
     "output_type": "error",
     "traceback": [
      "\u001b[0;36m  Cell \u001b[0;32mIn[35], line 2\u001b[0;36m\u001b[0m\n\u001b[0;31m    print(\"hello\", \"name\")\u001b[0m\n\u001b[0m    ^\u001b[0m\n\u001b[0;31mIndentationError\u001b[0m\u001b[0;31m:\u001b[0m expected an indented block after function definition on line 1\n"
     ]
    }
   ],
   "source": [
    "def greet(name):\n",
    "print(\"hello\", \"name\")\n"
   ]
  },
  {
   "cell_type": "markdown",
   "id": "b2230e69-ad4d-4257-bfba-72956bcda651",
   "metadata": {},
   "source": [
    "## 1.5 Operators "
   ]
  },
  {
   "cell_type": "markdown",
   "id": "bc5de6d1-42a2-4c51-b091-2e3d4ab70e41",
   "metadata": {},
   "source": [
    "Python supports various operators, including arithmetic, comparison, logical, and assignment operators.\n",
    "\n",
    "Arithmetic operators: +, -, *, /, %, ** (exponentiation), // (floor division). \\\n",
    "Comparison operators: ==, !=, <, >, <=, >=.  \\\n",
    "Logical operators: and, or, not. \\\n",
    "Assignment operators: =, +=, -=, *=, /=, %=, **=, //=. \\\n",
    "Bitwise operators: &, |, ^, ~, <<, >>. \\\n",
    "Strings: Strings can be enclosed in single or double quotes. You can use the + operator to concatenate strings."
   ]
  },
  {
   "cell_type": "code",
   "execution_count": null,
   "id": "140f74c2-20c4-47b6-8793-92864f3bfb73",
   "metadata": {},
   "outputs": [],
   "source": [
    "a = 0 \n",
    "a = a + 1\n",
    "a *= 1"
   ]
  },
  {
   "cell_type": "markdown",
   "id": "66e6b117-f2ac-4d3a-9fd9-4ef8e46ae730",
   "metadata": {},
   "source": [
    "## 1.6 Control flow"
   ]
  },
  {
   "cell_type": "markdown",
   "id": "4e3f2421-7d91-488c-8887-d38a063e6e1a",
   "metadata": {},
   "source": [
    "Python supports various control flow structures, such as if-else statements, loops, and more."
   ]
  },
  {
   "cell_type": "markdown",
   "id": "fe23378d-c276-479a-9cd1-d19c0538fcd5",
   "metadata": {},
   "source": [
    "### 1.6.1 if-esle statement"
   ]
  },
  {
   "cell_type": "markdown",
   "id": "1795a6a6-395e-49d8-8a9d-e643d02d58c9",
   "metadata": {},
   "source": [
    "### 1.6.2 for loops"
   ]
  },
  {
   "cell_type": "markdown",
   "id": "bd11d001-455d-4d6c-b98a-2519ed60debd",
   "metadata": {},
   "source": [
    "for var in iterable:    # statements"
   ]
  },
  {
   "cell_type": "markdown",
   "id": "cfc6f97e-832e-4485-ae68-c33409f60e57",
   "metadata": {},
   "source": [
    "### 1.6.3 while loops"
   ]
  },
  {
   "cell_type": "markdown",
   "id": "8ffc6f10-6425-4bca-acff-cd305aed9488",
   "metadata": {},
   "source": [
    "while expression:\n",
    "    statement(s)"
   ]
  },
  {
   "cell_type": "markdown",
   "id": "9b896c81-73b6-449a-84e7-841db8ce1ea4",
   "metadata": {},
   "source": [
    "## 1.7 Functions "
   ]
  },
  {
   "cell_type": "markdown",
   "id": "fd9c35a5-7c64-477d-ab72-139f344eb5ad",
   "metadata": {},
   "source": [
    "Functions are blocks of code that perform a specific task. You can define your own functions using the def keyword."
   ]
  },
  {
   "cell_type": "markdown",
   "id": "76de0638-7cae-40cf-8d3d-d12c5c8355d8",
   "metadata": {},
   "source": [
    "# 2. Numpy"
   ]
  },
  {
   "cell_type": "markdown",
   "id": "3e175209-fe45-43ff-aa70-7e7a9f7d86e7",
   "metadata": {},
   "source": [
    "The `numpy` *library*, or *package* is widely used in the field of machine learning and data science. A package is a collection of modules that are not necessarily included in the base `Python` distribution. The name `numpy` is an abbreviation for *numerical Python*. "
   ]
  },
  {
   "cell_type": "markdown",
   "id": "89e8f621-d475-4187-bde8-0b24227c9a18",
   "metadata": {},
   "source": [
    "To access `numpy`, we must first `import` it. In the previous line, we named the `numpy` *module* `np`; an abbreviation for easier referencing."
   ]
  },
  {
   "cell_type": "markdown",
   "id": "067c2dbf-b518-476f-94ac-67d0e3ff7e83",
   "metadata": {},
   "source": [
    "In `numpy`, an *array* is a generic term for a multidimensional set of numbers. The *ndarray* is at the core of the Numpy package. "
   ]
  },
  {
   "cell_type": "code",
   "execution_count": 37,
   "id": "548b403f-8ce9-44b3-8cdb-be31c16fb5d3",
   "metadata": {},
   "outputs": [],
   "source": [
    "import numpy as np"
   ]
  },
  {
   "cell_type": "markdown",
   "id": "00f69c3a-c79a-4762-9e31-9b786ec56888",
   "metadata": {},
   "source": [
    "### 2.1 Array creation\n",
    "The simpliest way to create an array is from Python list. We use the `np.array()` function to define `x` and `y`, which are one-dimensional arrays, i.e. vectors."
   ]
  },
  {
   "cell_type": "code",
   "execution_count": 41,
   "id": "b7508214-4c75-4489-9283-46f5ed6c07f7",
   "metadata": {},
   "outputs": [],
   "source": [
    "x = np.array([1, 2, 3])\n",
    "y = np.array([4, 5, 6])"
   ]
  },
  {
   "cell_type": "markdown",
   "id": "58007013-ad91-4b0e-8afc-fd587c48b741",
   "metadata": {},
   "source": [
    "We could also create an array using the `np.arange()` function."
   ]
  },
  {
   "cell_type": "code",
   "execution_count": 42,
   "id": "4c427d86-b514-4872-a884-cd937809e353",
   "metadata": {},
   "outputs": [
    {
     "data": {
      "text/plain": [
       "array([0, 1, 2, 3, 4, 5, 6, 7, 8, 9])"
      ]
     },
     "execution_count": 42,
     "metadata": {},
     "output_type": "execute_result"
    }
   ],
   "source": [
    "np.arange(10)"
   ]
  },
  {
   "cell_type": "markdown",
   "id": "59c4f590-f5e8-452c-9ab8-16aa9019f5a6",
   "metadata": {},
   "source": [
    "In `numpy`, matrices are typically represented as two-dimensional arrays, and vectors as one-dimensional arrays. {It is also possible to create matrices using  `np.matrix()`.}\n",
    "We can create a two-dimensional array as follows. "
   ]
  },
  {
   "cell_type": "code",
   "execution_count": 44,
   "id": "0b0889e5-4869-4156-813a-544ccc7cb75e",
   "metadata": {},
   "outputs": [
    {
     "data": {
      "text/plain": [
       "array([[1, 2],\n",
       "       [3, 4]])"
      ]
     },
     "execution_count": 44,
     "metadata": {},
     "output_type": "execute_result"
    }
   ],
   "source": [
    "x = np.array([[1,2], [3,4]])\n",
    "x"
   ]
  },
  {
   "cell_type": "markdown",
   "id": "36235932-2365-497a-bdf8-d62a129c9427",
   "metadata": {},
   "source": [
    "The object `x` has several \n",
    "*attributes*, or associated objects. To access an attribute of `x`, we type `x.attribute`, where we replace `attribute`\n",
    "with the name of the attribute. \n",
    "For instance, we can access the `ndim` attribute of  `x` as follows. "
   ]
  },
  {
   "cell_type": "code",
   "execution_count": 47,
   "id": "067af580-0620-46cb-a0c2-a14eb9416cee",
   "metadata": {},
   "outputs": [
    {
     "data": {
      "text/plain": [
       "dtype('int64')"
      ]
     },
     "execution_count": 47,
     "metadata": {},
     "output_type": "execute_result"
    }
   ],
   "source": [
    "x.ndim\n",
    "x.shape\n",
    "x.dtype"
   ]
  },
  {
   "cell_type": "markdown",
   "id": "46c240d4-33db-43ae-8754-96e23c9338ec",
   "metadata": {},
   "source": [
    "### 2.2 Basic operations\n",
    "Arithmetic operators on arrays apply *elementwise*. A new array is created and filled with the result."
   ]
  },
  {
   "cell_type": "code",
   "execution_count": 53,
   "id": "efcab2d1-e86a-4226-8f6f-e9501c7682dc",
   "metadata": {},
   "outputs": [
    {
     "data": {
      "text/plain": [
       "array([1, 1, 1, 1])"
      ]
     },
     "execution_count": 53,
     "metadata": {},
     "output_type": "execute_result"
    }
   ],
   "source": [
    "a = np.array([1,2,3,4])\n",
    "b = np.arange(4)\n",
    "a - b "
   ]
  },
  {
   "cell_type": "markdown",
   "id": "4c03c847-6a09-4b31-9988-c5fa5e4ecc2e",
   "metadata": {},
   "source": [
    "A *method* is a function that is associated with an\n",
    "object. \n",
    "For instance, given an array `x`, the expression\n",
    "`x.sum()` sums all of its elements, using the `sum()`\n",
    "method for arrays. \n",
    "The call `x.sum()` automatically provides `x` as the\n",
    "first argument to its `sum()` method."
   ]
  },
  {
   "cell_type": "code",
   "execution_count": 54,
   "id": "20c6c5cf-fe42-46db-ab71-867c7d46b86d",
   "metadata": {},
   "outputs": [
    {
     "data": {
      "text/plain": [
       "10"
      ]
     },
     "execution_count": 54,
     "metadata": {},
     "output_type": "execute_result"
    }
   ],
   "source": [
    "a.sum()"
   ]
  },
  {
   "cell_type": "markdown",
   "id": "b01a096c-c468-499d-83e3-81c55edceea7",
   "metadata": {},
   "source": [
    "We could also sum the elements of `x` by passing in `x` as an argument to the `np.sum()` function. "
   ]
  },
  {
   "cell_type": "code",
   "execution_count": 55,
   "id": "c4a473b5-af87-4c7d-9ea9-ce77820f1872",
   "metadata": {},
   "outputs": [
    {
     "data": {
      "text/plain": [
       "10"
      ]
     },
     "execution_count": 55,
     "metadata": {},
     "output_type": "execute_result"
    }
   ],
   "source": [
    "np.sum(a)"
   ]
  },
  {
   "cell_type": "markdown",
   "id": "1620e385-dfd1-49b9-a693-ae174a1872b9",
   "metadata": {},
   "source": [
    " As another example, the\n",
    "`reshape()` method returns a new array with the same elements as\n",
    "`x`, but a different shape.\n",
    " We do this by passing in a `tuple` in our call to\n",
    " `reshape()`, in this case `(2, 3)`.  This tuple specifies that we would like to create a two-dimensional array with \n",
    "$2$ rows and $3$ columns. {Like lists, tuples represent a sequence of objects. Why do we need more than one way to create a sequence? There are a few differences between tuples and lists, but perhaps the most important is that elements of a tuple cannot be modified, whereas elements of a list can be.}"
   ]
  },
  {
   "cell_type": "code",
   "execution_count": 57,
   "id": "ea3a52ed-0b7b-4482-b726-e311b57641bc",
   "metadata": {},
   "outputs": [
    {
     "data": {
      "text/plain": [
       "array([[1, 2, 3],\n",
       "       [4, 5, 6]])"
      ]
     },
     "execution_count": 57,
     "metadata": {},
     "output_type": "execute_result"
    }
   ],
   "source": [
    "a = np.array([1,2,3,4,5,6])\n",
    "a.reshape((2,3))"
   ]
  },
  {
   "cell_type": "markdown",
   "id": "78742c8e-5765-45d2-b831-d2bf8a96e097",
   "metadata": {},
   "source": [
    "The previous output reveals that `numpy` arrays are specified as a sequence\n",
    "of *rows*. This is  called *row-major ordering*, as opposed to *column-major ordering*. \n",
    "\n",
    "`Python` (and hence `numpy`) uses 0-based\n",
    "indexing. This means that to access the top left element of `x_reshape`, \n",
    "we type in `x_reshape[0,0]`."
   ]
  },
  {
   "cell_type": "code",
   "execution_count": 58,
   "id": "74891ea5-1e1f-48d7-9d0a-81d54019a594",
   "metadata": {},
   "outputs": [
    {
     "data": {
      "text/plain": [
       "1"
      ]
     },
     "execution_count": 58,
     "metadata": {},
     "output_type": "execute_result"
    }
   ],
   "source": [
    "a.reshape((2,3))[0,0]"
   ]
  },
  {
   "cell_type": "markdown",
   "id": "aeecd054-3020-44ff-a566-4b4457cf0636",
   "metadata": {},
   "source": [
    "### break out exercise\n",
    "\n",
    "Take 2-3 minutes to creat arrays and look at its shape. Test out the built-in functions and see the attributes. You can go to Numpy's helper\\\n",
    "page to look at a comprehensive list of functions and attributes.\n"
   ]
  },
  {
   "cell_type": "markdown",
   "id": "87d1186a-588f-4d5a-9408-da68e41eeb25",
   "metadata": {},
   "source": [
    "### 2.3 generate random values \n",
    "The `np.random.normal()`  function generates a vector of random\n",
    "normal variables. The function's arguments are  `loc`, `scale`, and `size`. These are *keyword* arguments, which means that when they are passed into the function, they can be referred to by name (in any order). {`Python` also uses *positional* arguments. Positional arguments do not need to use a keyword. To see an example, type in `np.sum?`. We see that `a` is a positional argument, i.e. this function assumes that the first unnamed argument that it receives is the array to be summed. By contrast, `axis` and `dtype` are keyword arguments: the position in which these arguments are entered into `np.sum()` does not matter.}\n",
    " By default, this function will generate random normal variable(s) with mean (`loc`) $0$ and standard deviation (`scale`) $1$; furthermore, \n",
    " a single random variable will be generated unless the argument to `size` is changed. \n",
    "\n",
    "We now generate 50 independent random variables from a $N(0,1)$ distribution. "
   ]
  },
  {
   "cell_type": "code",
   "execution_count": 69,
   "id": "a68f851f-06d7-44f9-82f5-569f29adb879",
   "metadata": {},
   "outputs": [
    {
     "data": {
      "text/plain": [
       "\u001b[0;31mDocstring:\u001b[0m\n",
       "normal(loc=0.0, scale=1.0, size=None)\n",
       "\n",
       "Draw random samples from a normal (Gaussian) distribution.\n",
       "\n",
       "The probability density function of the normal distribution, first\n",
       "derived by De Moivre and 200 years later by both Gauss and Laplace\n",
       "independently [2]_, is often called the bell curve because of\n",
       "its characteristic shape (see the example below).\n",
       "\n",
       "The normal distributions occurs often in nature.  For example, it\n",
       "describes the commonly occurring distribution of samples influenced\n",
       "by a large number of tiny, random disturbances, each with its own\n",
       "unique distribution [2]_.\n",
       "\n",
       ".. note::\n",
       "    New code should use the ``normal`` method of a ``default_rng()``\n",
       "    instance instead; please see the :ref:`random-quick-start`.\n",
       "\n",
       "Parameters\n",
       "----------\n",
       "loc : float or array_like of floats\n",
       "    Mean (\"centre\") of the distribution.\n",
       "scale : float or array_like of floats\n",
       "    Standard deviation (spread or \"width\") of the distribution. Must be\n",
       "    non-negative.\n",
       "size : int or tuple of ints, optional\n",
       "    Output shape.  If the given shape is, e.g., ``(m, n, k)``, then\n",
       "    ``m * n * k`` samples are drawn.  If size is ``None`` (default),\n",
       "    a single value is returned if ``loc`` and ``scale`` are both scalars.\n",
       "    Otherwise, ``np.broadcast(loc, scale).size`` samples are drawn.\n",
       "\n",
       "Returns\n",
       "-------\n",
       "out : ndarray or scalar\n",
       "    Drawn samples from the parameterized normal distribution.\n",
       "\n",
       "See Also\n",
       "--------\n",
       "scipy.stats.norm : probability density function, distribution or\n",
       "    cumulative density function, etc.\n",
       "random.Generator.normal: which should be used for new code.\n",
       "\n",
       "Notes\n",
       "-----\n",
       "The probability density for the Gaussian distribution is\n",
       "\n",
       ".. math:: p(x) = \\frac{1}{\\sqrt{ 2 \\pi \\sigma^2 }}\n",
       "                 e^{ - \\frac{ (x - \\mu)^2 } {2 \\sigma^2} },\n",
       "\n",
       "where :math:`\\mu` is the mean and :math:`\\sigma` the standard\n",
       "deviation. The square of the standard deviation, :math:`\\sigma^2`,\n",
       "is called the variance.\n",
       "\n",
       "The function has its peak at the mean, and its \"spread\" increases with\n",
       "the standard deviation (the function reaches 0.607 times its maximum at\n",
       ":math:`x + \\sigma` and :math:`x - \\sigma` [2]_).  This implies that\n",
       "normal is more likely to return samples lying close to the mean, rather\n",
       "than those far away.\n",
       "\n",
       "References\n",
       "----------\n",
       ".. [1] Wikipedia, \"Normal distribution\",\n",
       "       https://en.wikipedia.org/wiki/Normal_distribution\n",
       ".. [2] P. R. Peebles Jr., \"Central Limit Theorem\" in \"Probability,\n",
       "       Random Variables and Random Signal Principles\", 4th ed., 2001,\n",
       "       pp. 51, 51, 125.\n",
       "\n",
       "Examples\n",
       "--------\n",
       "Draw samples from the distribution:\n",
       "\n",
       ">>> mu, sigma = 0, 0.1 # mean and standard deviation\n",
       ">>> s = np.random.normal(mu, sigma, 1000)\n",
       "\n",
       "Verify the mean and the variance:\n",
       "\n",
       ">>> abs(mu - np.mean(s))\n",
       "0.0  # may vary\n",
       "\n",
       ">>> abs(sigma - np.std(s, ddof=1))\n",
       "0.1  # may vary\n",
       "\n",
       "Display the histogram of the samples, along with\n",
       "the probability density function:\n",
       "\n",
       ">>> import matplotlib.pyplot as plt\n",
       ">>> count, bins, ignored = plt.hist(s, 30, density=True)\n",
       ">>> plt.plot(bins, 1/(sigma * np.sqrt(2 * np.pi)) *\n",
       "...                np.exp( - (bins - mu)**2 / (2 * sigma**2) ),\n",
       "...          linewidth=2, color='r')\n",
       ">>> plt.show()\n",
       "\n",
       "Two-by-four array of samples from N(3, 6.25):\n",
       "\n",
       ">>> np.random.normal(3, 2.5, size=(2, 4))\n",
       "array([[-4.49401501,  4.00950034, -1.81814867,  7.29718677],   # random\n",
       "       [ 0.39924804,  4.68456316,  4.99394529,  4.84057254]])  # random\n",
       "\u001b[0;31mType:\u001b[0m      builtin_function_or_method"
      ]
     },
     "metadata": {},
     "output_type": "display_data"
    }
   ],
   "source": [
    "np.random.normal?"
   ]
  },
  {
   "cell_type": "code",
   "execution_count": 60,
   "id": "511b0f13-4b77-4ac3-814e-80dc17e36f69",
   "metadata": {},
   "outputs": [],
   "source": [
    "a = np.random.normal(size=50)"
   ]
  },
  {
   "cell_type": "code",
   "execution_count": 61,
   "id": "0e72799f-edfa-425e-aa3c-ce0e0c2b1150",
   "metadata": {},
   "outputs": [
    {
     "data": {
      "text/plain": [
       "-0.06964949261835635"
      ]
     },
     "execution_count": 61,
     "metadata": {},
     "output_type": "execute_result"
    }
   ],
   "source": [
    "np.mean(a)"
   ]
  },
  {
   "cell_type": "code",
   "execution_count": 62,
   "id": "55ebfb71-e36c-48b1-8bcb-3bfe0675732c",
   "metadata": {},
   "outputs": [
    {
     "data": {
      "text/plain": [
       "0.6819225079951642"
      ]
     },
     "execution_count": 62,
     "metadata": {},
     "output_type": "execute_result"
    }
   ],
   "source": [
    "np.var(a)"
   ]
  },
  {
   "cell_type": "markdown",
   "id": "9c6da614-9258-4bcb-b16c-5869e76231c7",
   "metadata": {},
   "source": [
    "### Slicing and Indexing"
   ]
  },
  {
   "cell_type": "markdown",
   "id": "558ebe33-0556-4e74-a34e-3ddb5eaa7f26",
   "metadata": {},
   "source": [
    "Slice notation is used to index sequences such as lists, tuples and arrays.\n",
    "Suppose we want to retrieve the fourth through sixth (inclusive) entries\n",
    "of a string. We obtain a slice of the string using the indexing  notation  `[3:6]`."
   ]
  },
  {
   "cell_type": "code",
   "execution_count": 63,
   "id": "dc08e869-6fe4-417c-9067-6f239ac32bea",
   "metadata": {},
   "outputs": [
    {
     "data": {
      "text/plain": [
       "'lo '"
      ]
     },
     "execution_count": 63,
     "metadata": {},
     "output_type": "execute_result"
    }
   ],
   "source": [
    "\"hello world\"[3:6]"
   ]
  },
  {
   "cell_type": "markdown",
   "id": "e8faef90-264f-467b-89f1-841b47004f67",
   "metadata": {},
   "source": [
    "### Indexing Rows, Columns, and Submatrices\n",
    "To select multiple rows at a time, we can pass in a *list*\n",
    "specifying our selection. For instance, `[1,3]` will retrieve the second and fourth rows:"
   ]
  },
  {
   "cell_type": "code",
   "execution_count": 68,
   "id": "fe225551-9a47-4a09-9633-ccbb8eb4208f",
   "metadata": {},
   "outputs": [
    {
     "data": {
      "text/plain": [
       "array([[ 0,  1,  2,  3],\n",
       "       [ 4,  5,  6,  7],\n",
       "       [ 8,  9, 10, 11],\n",
       "       [12, 13, 14, 15]])"
      ]
     },
     "execution_count": 68,
     "metadata": {},
     "output_type": "execute_result"
    }
   ],
   "source": [
    "# Let's first create an 4 by 4 matrix \n",
    "A = np.arange(16).reshape((4,4))\n",
    "A"
   ]
  },
  {
   "cell_type": "markdown",
   "id": "87256e33-b733-457b-b337-66050187091c",
   "metadata": {},
   "source": [
    "To select the first and third *columns*, we pass in  `[0,2]` as the second argument in the square brackets.\n",
    "In this case we need to supply the first argument `:` \n",
    "which selects all rows."
   ]
  },
  {
   "cell_type": "code",
   "execution_count": 69,
   "id": "dabd4cee-2bae-4194-8ba0-08112616a5c4",
   "metadata": {},
   "outputs": [
    {
     "data": {
      "text/plain": [
       "array([[ 0,  2],\n",
       "       [ 4,  6],\n",
       "       [ 8, 10],\n",
       "       [12, 14]])"
      ]
     },
     "execution_count": 69,
     "metadata": {},
     "output_type": "execute_result"
    }
   ],
   "source": [
    "A[:,[3]]"
   ]
  },
  {
   "cell_type": "markdown",
   "id": "42b6e1fa-556f-43eb-9c85-4ee4468b397e",
   "metadata": {},
   "source": [
    "### Indexing Submatrices"
   ]
  },
  {
   "cell_type": "markdown",
   "id": "8d68106d-d843-4f99-afdb-985f4a74cdeb",
   "metadata": {},
   "source": [
    "Now, suppose that we want to select the submatrix made up of the second and fourth \n",
    "rows as well as the first and third columns. This is where\n",
    "indexing gets slightly tricky. It is natural to try  to use lists to retrieve the rows and columns:"
   ]
  },
  {
   "cell_type": "code",
   "execution_count": 70,
   "id": "675e4221-dfdd-4e36-b731-daa5433389c2",
   "metadata": {},
   "outputs": [
    {
     "data": {
      "text/plain": [
       "array([ 0, 14])"
      ]
     },
     "execution_count": 70,
     "metadata": {},
     "output_type": "execute_result"
    }
   ],
   "source": [
    "A[[0,3],[0,2]]"
   ]
  },
  {
   "cell_type": "code",
   "execution_count": null,
   "id": "240ba03f-001c-48a7-89c8-9d197d2f5496",
   "metadata": {},
   "outputs": [],
   "source": []
  },
  {
   "cell_type": "markdown",
   "id": "bf9471c3-8f40-426d-882e-af2f065493fe",
   "metadata": {},
   "source": [
    "We can see what has gone wrong here. When supplied with two indexing lists, the `numpy` interpretation is that these provide pairs of $i,j$ indices for a series of entries. That is why the pair of lists must have the same length. However, that was not our intent, since we are looking for a submatrix.\n",
    "\n",
    "One easy way to do this is as follows. We first create a submatrix by subsetting the rows of `A`, and then on the fly we make a further submatrix by subsetting its columns.\n"
   ]
  },
  {
   "cell_type": "code",
   "execution_count": 72,
   "id": "77eab9a3-9207-4f27-8671-4414a875d244",
   "metadata": {},
   "outputs": [
    {
     "data": {
      "text/plain": [
       "array([[ 0,  2],\n",
       "       [12, 14]])"
      ]
     },
     "execution_count": 72,
     "metadata": {},
     "output_type": "execute_result"
    }
   ],
   "source": [
    "A[[0,3]][:,[0,2]]"
   ]
  },
  {
   "cell_type": "markdown",
   "id": "c04a96cd-74df-4dd7-94b1-3efc8504b117",
   "metadata": {},
   "source": [
    "There are more efficient ways of achieving the same result.\n",
    "\n",
    "The *convenience function* `np.ix_()` allows us  to extract a submatrix\n",
    "using lists, by creating an intermediate *mesh* object."
   ]
  },
  {
   "cell_type": "code",
   "execution_count": 74,
   "id": "0703ea32-58f0-4f60-924c-dc00f5fe9a78",
   "metadata": {},
   "outputs": [
    {
     "data": {
      "text/plain": [
       "array([[ 4,  6,  7],\n",
       "       [12, 14, 15]])"
      ]
     },
     "execution_count": 74,
     "metadata": {},
     "output_type": "execute_result"
    }
   ],
   "source": [
    "idx = np.ix_([1,3], [0,2,3])\n",
    "A[idx]"
   ]
  },
  {
   "cell_type": "markdown",
   "id": "76a500d9-394e-4d46-b917-fefaf2c6802b",
   "metadata": {},
   "source": [
    "Alternatively, we can subset matrices efficiently using slices.\n",
    "  \n",
    "The slice\n",
    "`1:4:2` captures the second and fourth items of a sequence, while the slice `0:3:2` captures\n",
    "the first and third items (the third element in a slice sequence is the step size)."
   ]
  },
  {
   "cell_type": "code",
   "execution_count": 75,
   "id": "f885eaf7-aca5-48ff-9270-41013c856ea4",
   "metadata": {},
   "outputs": [
    {
     "data": {
      "text/plain": [
       "array([[ 4,  6],\n",
       "       [12, 14]])"
      ]
     },
     "execution_count": 75,
     "metadata": {},
     "output_type": "execute_result"
    }
   ],
   "source": [
    "A[1:4:2, 0:3:2]"
   ]
  },
  {
   "cell_type": "markdown",
   "id": "bb01050f-59e7-4154-a39b-bfe02e55c94b",
   "metadata": {},
   "source": [
    "### Boolean indexing"
   ]
  },
  {
   "cell_type": "markdown",
   "id": "58930ddb-8829-437e-a81d-7955b7d5e0a4",
   "metadata": {},
   "source": [
    "In `numpy`, a *Boolean* is a type  that equals either   `True` or  `False` (also represented as $1$ and $0$, respectively).\n",
    "The next line creates a vector of $0$'s, represented as Booleans, of length equal to the first dimension of `A`. "
   ]
  },
  {
   "cell_type": "code",
   "execution_count": 78,
   "id": "0831bf20-a4ce-45fd-b662-fd68d3d73497",
   "metadata": {},
   "outputs": [
    {
     "data": {
      "text/plain": [
       "array([False, False, False, False])"
      ]
     },
     "execution_count": 78,
     "metadata": {},
     "output_type": "execute_result"
    }
   ],
   "source": [
    "keep_rows = np.zeros(4, bool)\n",
    "keep_rows"
   ]
  },
  {
   "cell_type": "markdown",
   "id": "46413307-8c78-4fca-949e-7235cabd58cd",
   "metadata": {},
   "source": [
    "`keep_rows` retrieves the second and fourth rows  of `A` --- i.e. the rows for which the Boolean equals `TRUE`. "
   ]
  },
  {
   "cell_type": "code",
   "execution_count": 80,
   "id": "c0929148-46fe-48ba-b881-433611bc7b98",
   "metadata": {},
   "outputs": [
    {
     "data": {
      "text/plain": [
       "array([False,  True, False,  True])"
      ]
     },
     "execution_count": 80,
     "metadata": {},
     "output_type": "execute_result"
    }
   ],
   "source": [
    "keep_rows[[1,3]] = True \n",
    "keep_rows"
   ]
  },
  {
   "cell_type": "markdown",
   "id": "2fde51ad-7144-419c-b801-27a55f78cd24",
   "metadata": {},
   "source": [
    "We again make use of the `np.ix_()` function\n",
    " to create a mesh containing the second and fourth rows, and the first,  third, and fourth columns. This time, we apply the function to Booleans,\n",
    " rather than lists."
   ]
  },
  {
   "cell_type": "code",
   "execution_count": 82,
   "id": "60a83009-d9fa-45ef-98bd-6db09c81c703",
   "metadata": {},
   "outputs": [
    {
     "data": {
      "text/plain": [
       "array([[ 4,  6,  7],\n",
       "       [12, 14, 15]])"
      ]
     },
     "execution_count": 82,
     "metadata": {},
     "output_type": "execute_result"
    }
   ],
   "source": [
    "idx_bool = np.ix_(keep_rows, [0,2,3])\n",
    "A[idx_bool]"
   ]
  },
  {
   "cell_type": "markdown",
   "id": "28c938c1-2598-4a92-a0b5-1c338691d7f0",
   "metadata": {},
   "source": [
    "We can also mix a list with an array of Booleans in the arguments to `np.ix_()`:"
   ]
  },
  {
   "cell_type": "markdown",
   "id": "a070a1d5-0163-4865-8106-16de05a66366",
   "metadata": {},
   "source": [
    "# 3. Pandas"
   ]
  },
  {
   "cell_type": "code",
   "execution_count": 84,
   "id": "5a0b67b7-309b-4290-bf86-52ab4dbe8a5f",
   "metadata": {},
   "outputs": [],
   "source": [
    "# first import the pandas package \n",
    "import pandas as pd"
   ]
  },
  {
   "cell_type": "markdown",
   "id": "68e84213-61ea-41d6-a97e-bb9473449541",
   "metadata": {},
   "source": [
    "### 3.1 Viewing the data"
   ]
  },
  {
   "cell_type": "code",
   "execution_count": 85,
   "id": "1d983bf4-866d-411f-b45e-438f64913686",
   "metadata": {},
   "outputs": [],
   "source": [
    "# load the data from the ISLP website\n",
    "\n",
    "# URL of the CSV file\n",
    "url = 'https://raw.githubusercontent.com/intro-stat-learning/ISLP_labs/stable/Auto.csv'\n",
    "\n",
    "# Load the dataset into a pandas DataFrame\n",
    "Auto = pd.read_csv(url)"
   ]
  },
  {
   "cell_type": "code",
   "execution_count": 86,
   "id": "7d37ccfe-1cff-4d25-b82d-604484d39cd6",
   "metadata": {},
   "outputs": [
    {
     "data": {
      "text/html": [
       "<div>\n",
       "<style scoped>\n",
       "    .dataframe tbody tr th:only-of-type {\n",
       "        vertical-align: middle;\n",
       "    }\n",
       "\n",
       "    .dataframe tbody tr th {\n",
       "        vertical-align: top;\n",
       "    }\n",
       "\n",
       "    .dataframe thead th {\n",
       "        text-align: right;\n",
       "    }\n",
       "</style>\n",
       "<table border=\"1\" class=\"dataframe\">\n",
       "  <thead>\n",
       "    <tr style=\"text-align: right;\">\n",
       "      <th></th>\n",
       "      <th>mpg</th>\n",
       "      <th>cylinders</th>\n",
       "      <th>displacement</th>\n",
       "      <th>horsepower</th>\n",
       "      <th>weight</th>\n",
       "      <th>acceleration</th>\n",
       "      <th>year</th>\n",
       "      <th>origin</th>\n",
       "      <th>name</th>\n",
       "    </tr>\n",
       "  </thead>\n",
       "  <tbody>\n",
       "    <tr>\n",
       "      <th>0</th>\n",
       "      <td>18.0</td>\n",
       "      <td>8</td>\n",
       "      <td>307.0</td>\n",
       "      <td>130</td>\n",
       "      <td>3504</td>\n",
       "      <td>12.0</td>\n",
       "      <td>70</td>\n",
       "      <td>1</td>\n",
       "      <td>chevrolet chevelle malibu</td>\n",
       "    </tr>\n",
       "    <tr>\n",
       "      <th>1</th>\n",
       "      <td>15.0</td>\n",
       "      <td>8</td>\n",
       "      <td>350.0</td>\n",
       "      <td>165</td>\n",
       "      <td>3693</td>\n",
       "      <td>11.5</td>\n",
       "      <td>70</td>\n",
       "      <td>1</td>\n",
       "      <td>buick skylark 320</td>\n",
       "    </tr>\n",
       "    <tr>\n",
       "      <th>2</th>\n",
       "      <td>18.0</td>\n",
       "      <td>8</td>\n",
       "      <td>318.0</td>\n",
       "      <td>150</td>\n",
       "      <td>3436</td>\n",
       "      <td>11.0</td>\n",
       "      <td>70</td>\n",
       "      <td>1</td>\n",
       "      <td>plymouth satellite</td>\n",
       "    </tr>\n",
       "    <tr>\n",
       "      <th>3</th>\n",
       "      <td>16.0</td>\n",
       "      <td>8</td>\n",
       "      <td>304.0</td>\n",
       "      <td>150</td>\n",
       "      <td>3433</td>\n",
       "      <td>12.0</td>\n",
       "      <td>70</td>\n",
       "      <td>1</td>\n",
       "      <td>amc rebel sst</td>\n",
       "    </tr>\n",
       "    <tr>\n",
       "      <th>4</th>\n",
       "      <td>17.0</td>\n",
       "      <td>8</td>\n",
       "      <td>302.0</td>\n",
       "      <td>140</td>\n",
       "      <td>3449</td>\n",
       "      <td>10.5</td>\n",
       "      <td>70</td>\n",
       "      <td>1</td>\n",
       "      <td>ford torino</td>\n",
       "    </tr>\n",
       "  </tbody>\n",
       "</table>\n",
       "</div>"
      ],
      "text/plain": [
       "    mpg  cylinders  displacement  horsepower  weight  acceleration  year  \\\n",
       "0  18.0          8         307.0         130    3504          12.0    70   \n",
       "1  15.0          8         350.0         165    3693          11.5    70   \n",
       "2  18.0          8         318.0         150    3436          11.0    70   \n",
       "3  16.0          8         304.0         150    3433          12.0    70   \n",
       "4  17.0          8         302.0         140    3449          10.5    70   \n",
       "\n",
       "   origin                       name  \n",
       "0       1  chevrolet chevelle malibu  \n",
       "1       1          buick skylark 320  \n",
       "2       1         plymouth satellite  \n",
       "3       1              amc rebel sst  \n",
       "4       1                ford torino  "
      ]
     },
     "execution_count": 86,
     "metadata": {},
     "output_type": "execute_result"
    }
   ],
   "source": [
    "# Look at the first few rows of the data set \n",
    "Auto.head()"
   ]
  },
  {
   "cell_type": "code",
   "execution_count": 87,
   "id": "eba01378-70a7-4336-948c-729111216846",
   "metadata": {},
   "outputs": [
    {
     "data": {
      "text/html": [
       "<div>\n",
       "<style scoped>\n",
       "    .dataframe tbody tr th:only-of-type {\n",
       "        vertical-align: middle;\n",
       "    }\n",
       "\n",
       "    .dataframe tbody tr th {\n",
       "        vertical-align: top;\n",
       "    }\n",
       "\n",
       "    .dataframe thead th {\n",
       "        text-align: right;\n",
       "    }\n",
       "</style>\n",
       "<table border=\"1\" class=\"dataframe\">\n",
       "  <thead>\n",
       "    <tr style=\"text-align: right;\">\n",
       "      <th></th>\n",
       "      <th>mpg</th>\n",
       "      <th>cylinders</th>\n",
       "      <th>displacement</th>\n",
       "      <th>horsepower</th>\n",
       "      <th>weight</th>\n",
       "      <th>acceleration</th>\n",
       "      <th>year</th>\n",
       "      <th>origin</th>\n",
       "      <th>name</th>\n",
       "    </tr>\n",
       "  </thead>\n",
       "  <tbody>\n",
       "    <tr>\n",
       "      <th>387</th>\n",
       "      <td>27.0</td>\n",
       "      <td>4</td>\n",
       "      <td>140.0</td>\n",
       "      <td>86</td>\n",
       "      <td>2790</td>\n",
       "      <td>15.6</td>\n",
       "      <td>82</td>\n",
       "      <td>1</td>\n",
       "      <td>ford mustang gl</td>\n",
       "    </tr>\n",
       "    <tr>\n",
       "      <th>388</th>\n",
       "      <td>44.0</td>\n",
       "      <td>4</td>\n",
       "      <td>97.0</td>\n",
       "      <td>52</td>\n",
       "      <td>2130</td>\n",
       "      <td>24.6</td>\n",
       "      <td>82</td>\n",
       "      <td>2</td>\n",
       "      <td>vw pickup</td>\n",
       "    </tr>\n",
       "    <tr>\n",
       "      <th>389</th>\n",
       "      <td>32.0</td>\n",
       "      <td>4</td>\n",
       "      <td>135.0</td>\n",
       "      <td>84</td>\n",
       "      <td>2295</td>\n",
       "      <td>11.6</td>\n",
       "      <td>82</td>\n",
       "      <td>1</td>\n",
       "      <td>dodge rampage</td>\n",
       "    </tr>\n",
       "    <tr>\n",
       "      <th>390</th>\n",
       "      <td>28.0</td>\n",
       "      <td>4</td>\n",
       "      <td>120.0</td>\n",
       "      <td>79</td>\n",
       "      <td>2625</td>\n",
       "      <td>18.6</td>\n",
       "      <td>82</td>\n",
       "      <td>1</td>\n",
       "      <td>ford ranger</td>\n",
       "    </tr>\n",
       "    <tr>\n",
       "      <th>391</th>\n",
       "      <td>31.0</td>\n",
       "      <td>4</td>\n",
       "      <td>119.0</td>\n",
       "      <td>82</td>\n",
       "      <td>2720</td>\n",
       "      <td>19.4</td>\n",
       "      <td>82</td>\n",
       "      <td>1</td>\n",
       "      <td>chevy s-10</td>\n",
       "    </tr>\n",
       "  </tbody>\n",
       "</table>\n",
       "</div>"
      ],
      "text/plain": [
       "      mpg  cylinders  displacement  horsepower  weight  acceleration  year  \\\n",
       "387  27.0          4         140.0          86    2790          15.6    82   \n",
       "388  44.0          4          97.0          52    2130          24.6    82   \n",
       "389  32.0          4         135.0          84    2295          11.6    82   \n",
       "390  28.0          4         120.0          79    2625          18.6    82   \n",
       "391  31.0          4         119.0          82    2720          19.4    82   \n",
       "\n",
       "     origin             name  \n",
       "387       1  ford mustang gl  \n",
       "388       2        vw pickup  \n",
       "389       1    dodge rampage  \n",
       "390       1      ford ranger  \n",
       "391       1       chevy s-10  "
      ]
     },
     "execution_count": 87,
     "metadata": {},
     "output_type": "execute_result"
    }
   ],
   "source": [
    "# Look at the last few rows of the data set \n",
    "Auto.tail()"
   ]
  },
  {
   "cell_type": "code",
   "execution_count": 88,
   "id": "4ec5d45e-db63-40d6-b746-b57ff5e0736d",
   "metadata": {},
   "outputs": [
    {
     "data": {
      "text/html": [
       "<div>\n",
       "<style scoped>\n",
       "    .dataframe tbody tr th:only-of-type {\n",
       "        vertical-align: middle;\n",
       "    }\n",
       "\n",
       "    .dataframe tbody tr th {\n",
       "        vertical-align: top;\n",
       "    }\n",
       "\n",
       "    .dataframe thead th {\n",
       "        text-align: right;\n",
       "    }\n",
       "</style>\n",
       "<table border=\"1\" class=\"dataframe\">\n",
       "  <thead>\n",
       "    <tr style=\"text-align: right;\">\n",
       "      <th></th>\n",
       "      <th>mpg</th>\n",
       "      <th>cylinders</th>\n",
       "      <th>displacement</th>\n",
       "      <th>horsepower</th>\n",
       "      <th>weight</th>\n",
       "      <th>acceleration</th>\n",
       "      <th>year</th>\n",
       "      <th>origin</th>\n",
       "    </tr>\n",
       "  </thead>\n",
       "  <tbody>\n",
       "    <tr>\n",
       "      <th>count</th>\n",
       "      <td>392.000000</td>\n",
       "      <td>392.000000</td>\n",
       "      <td>392.000000</td>\n",
       "      <td>392.000000</td>\n",
       "      <td>392.000000</td>\n",
       "      <td>392.000000</td>\n",
       "      <td>392.000000</td>\n",
       "      <td>392.000000</td>\n",
       "    </tr>\n",
       "    <tr>\n",
       "      <th>mean</th>\n",
       "      <td>23.445918</td>\n",
       "      <td>5.471939</td>\n",
       "      <td>194.411990</td>\n",
       "      <td>104.469388</td>\n",
       "      <td>2977.584184</td>\n",
       "      <td>15.541327</td>\n",
       "      <td>75.979592</td>\n",
       "      <td>1.576531</td>\n",
       "    </tr>\n",
       "    <tr>\n",
       "      <th>std</th>\n",
       "      <td>7.805007</td>\n",
       "      <td>1.705783</td>\n",
       "      <td>104.644004</td>\n",
       "      <td>38.491160</td>\n",
       "      <td>849.402560</td>\n",
       "      <td>2.758864</td>\n",
       "      <td>3.683737</td>\n",
       "      <td>0.805518</td>\n",
       "    </tr>\n",
       "    <tr>\n",
       "      <th>min</th>\n",
       "      <td>9.000000</td>\n",
       "      <td>3.000000</td>\n",
       "      <td>68.000000</td>\n",
       "      <td>46.000000</td>\n",
       "      <td>1613.000000</td>\n",
       "      <td>8.000000</td>\n",
       "      <td>70.000000</td>\n",
       "      <td>1.000000</td>\n",
       "    </tr>\n",
       "    <tr>\n",
       "      <th>25%</th>\n",
       "      <td>17.000000</td>\n",
       "      <td>4.000000</td>\n",
       "      <td>105.000000</td>\n",
       "      <td>75.000000</td>\n",
       "      <td>2225.250000</td>\n",
       "      <td>13.775000</td>\n",
       "      <td>73.000000</td>\n",
       "      <td>1.000000</td>\n",
       "    </tr>\n",
       "    <tr>\n",
       "      <th>50%</th>\n",
       "      <td>22.750000</td>\n",
       "      <td>4.000000</td>\n",
       "      <td>151.000000</td>\n",
       "      <td>93.500000</td>\n",
       "      <td>2803.500000</td>\n",
       "      <td>15.500000</td>\n",
       "      <td>76.000000</td>\n",
       "      <td>1.000000</td>\n",
       "    </tr>\n",
       "    <tr>\n",
       "      <th>75%</th>\n",
       "      <td>29.000000</td>\n",
       "      <td>8.000000</td>\n",
       "      <td>275.750000</td>\n",
       "      <td>126.000000</td>\n",
       "      <td>3614.750000</td>\n",
       "      <td>17.025000</td>\n",
       "      <td>79.000000</td>\n",
       "      <td>2.000000</td>\n",
       "    </tr>\n",
       "    <tr>\n",
       "      <th>max</th>\n",
       "      <td>46.600000</td>\n",
       "      <td>8.000000</td>\n",
       "      <td>455.000000</td>\n",
       "      <td>230.000000</td>\n",
       "      <td>5140.000000</td>\n",
       "      <td>24.800000</td>\n",
       "      <td>82.000000</td>\n",
       "      <td>3.000000</td>\n",
       "    </tr>\n",
       "  </tbody>\n",
       "</table>\n",
       "</div>"
      ],
      "text/plain": [
       "              mpg   cylinders  displacement  horsepower       weight  \\\n",
       "count  392.000000  392.000000    392.000000  392.000000   392.000000   \n",
       "mean    23.445918    5.471939    194.411990  104.469388  2977.584184   \n",
       "std      7.805007    1.705783    104.644004   38.491160   849.402560   \n",
       "min      9.000000    3.000000     68.000000   46.000000  1613.000000   \n",
       "25%     17.000000    4.000000    105.000000   75.000000  2225.250000   \n",
       "50%     22.750000    4.000000    151.000000   93.500000  2803.500000   \n",
       "75%     29.000000    8.000000    275.750000  126.000000  3614.750000   \n",
       "max     46.600000    8.000000    455.000000  230.000000  5140.000000   \n",
       "\n",
       "       acceleration        year      origin  \n",
       "count    392.000000  392.000000  392.000000  \n",
       "mean      15.541327   75.979592    1.576531  \n",
       "std        2.758864    3.683737    0.805518  \n",
       "min        8.000000   70.000000    1.000000  \n",
       "25%       13.775000   73.000000    1.000000  \n",
       "50%       15.500000   76.000000    1.000000  \n",
       "75%       17.025000   79.000000    2.000000  \n",
       "max       24.800000   82.000000    3.000000  "
      ]
     },
     "execution_count": 88,
     "metadata": {},
     "output_type": "execute_result"
    }
   ],
   "source": [
    "# get the summary statistics for the data \n",
    "Auto.describe()"
   ]
  },
  {
   "cell_type": "code",
   "execution_count": 89,
   "id": "8af2c3e4-ce2b-4cf8-bd5f-e202eadccb82",
   "metadata": {},
   "outputs": [
    {
     "name": "stdout",
     "output_type": "stream",
     "text": [
      "<class 'pandas.core.frame.DataFrame'>\n",
      "RangeIndex: 392 entries, 0 to 391\n",
      "Data columns (total 9 columns):\n",
      " #   Column        Non-Null Count  Dtype  \n",
      "---  ------        --------------  -----  \n",
      " 0   mpg           392 non-null    float64\n",
      " 1   cylinders     392 non-null    int64  \n",
      " 2   displacement  392 non-null    float64\n",
      " 3   horsepower    392 non-null    int64  \n",
      " 4   weight        392 non-null    int64  \n",
      " 5   acceleration  392 non-null    float64\n",
      " 6   year          392 non-null    int64  \n",
      " 7   origin        392 non-null    int64  \n",
      " 8   name          392 non-null    object \n",
      "dtypes: float64(3), int64(5), object(1)\n",
      "memory usage: 27.7+ KB\n"
     ]
    }
   ],
   "source": [
    "# get data description \n",
    "Auto.info()"
   ]
  },
  {
   "cell_type": "markdown",
   "id": "59cfd503-816b-4629-bf84-8c80b7e01941",
   "metadata": {},
   "source": [
    "The `Auto.shape`  attribute tells us that the data has 392\n",
    "observations, or rows, and nine variables, or columns."
   ]
  },
  {
   "cell_type": "code",
   "execution_count": 90,
   "id": "a0ae24f2-b634-4d25-8b4f-f3ff23f7a9bf",
   "metadata": {},
   "outputs": [
    {
     "data": {
      "text/plain": [
       "(392, 9)"
      ]
     },
     "execution_count": 90,
     "metadata": {},
     "output_type": "execute_result"
    }
   ],
   "source": [
    "# get the shape of the data\n",
    "Auto.shape"
   ]
  },
  {
   "cell_type": "markdown",
   "id": "53735085-ba43-4042-b158-fca27f3b5eed",
   "metadata": {},
   "source": [
    "### 3.2 Selection\n",
    "\n",
    "We can use `Auto.columns`  to check the variable names."
   ]
  },
  {
   "cell_type": "code",
   "execution_count": 91,
   "id": "247ffb19-ade0-455f-8bc5-21a4f77b5bc0",
   "metadata": {},
   "outputs": [
    {
     "data": {
      "text/plain": [
       "Index(['mpg', 'cylinders', 'displacement', 'horsepower', 'weight',\n",
       "       'acceleration', 'year', 'origin', 'name'],\n",
       "      dtype='object')"
      ]
     },
     "execution_count": 91,
     "metadata": {},
     "output_type": "execute_result"
    }
   ],
   "source": [
    "# Look at the columns of the data set \n",
    "Auto.columns"
   ]
  },
  {
   "cell_type": "markdown",
   "id": "0ad61abf-c1a8-4670-bd79-655f433056a7",
   "metadata": {},
   "source": [
    "Accessing the rows and columns of a data frame is similar, but not identical, to accessing the rows and columns of an array. \n",
    "Recall that the first argument to the `[]` method\n",
    "is always applied to the rows of the array.  \n",
    "Similarly, \n",
    "passing in a slice to the `[]` method creates a data frame whose *rows* are determined by the slice:"
   ]
  },
  {
   "cell_type": "code",
   "execution_count": 92,
   "id": "a4eb8403-1a42-49d0-b629-550e38425a88",
   "metadata": {},
   "outputs": [
    {
     "data": {
      "text/html": [
       "<div>\n",
       "<style scoped>\n",
       "    .dataframe tbody tr th:only-of-type {\n",
       "        vertical-align: middle;\n",
       "    }\n",
       "\n",
       "    .dataframe tbody tr th {\n",
       "        vertical-align: top;\n",
       "    }\n",
       "\n",
       "    .dataframe thead th {\n",
       "        text-align: right;\n",
       "    }\n",
       "</style>\n",
       "<table border=\"1\" class=\"dataframe\">\n",
       "  <thead>\n",
       "    <tr style=\"text-align: right;\">\n",
       "      <th></th>\n",
       "      <th>mpg</th>\n",
       "      <th>cylinders</th>\n",
       "      <th>displacement</th>\n",
       "      <th>horsepower</th>\n",
       "      <th>weight</th>\n",
       "      <th>acceleration</th>\n",
       "      <th>year</th>\n",
       "      <th>origin</th>\n",
       "      <th>name</th>\n",
       "    </tr>\n",
       "  </thead>\n",
       "  <tbody>\n",
       "    <tr>\n",
       "      <th>0</th>\n",
       "      <td>18.0</td>\n",
       "      <td>8</td>\n",
       "      <td>307.0</td>\n",
       "      <td>130</td>\n",
       "      <td>3504</td>\n",
       "      <td>12.0</td>\n",
       "      <td>70</td>\n",
       "      <td>1</td>\n",
       "      <td>chevrolet chevelle malibu</td>\n",
       "    </tr>\n",
       "    <tr>\n",
       "      <th>1</th>\n",
       "      <td>15.0</td>\n",
       "      <td>8</td>\n",
       "      <td>350.0</td>\n",
       "      <td>165</td>\n",
       "      <td>3693</td>\n",
       "      <td>11.5</td>\n",
       "      <td>70</td>\n",
       "      <td>1</td>\n",
       "      <td>buick skylark 320</td>\n",
       "    </tr>\n",
       "    <tr>\n",
       "      <th>2</th>\n",
       "      <td>18.0</td>\n",
       "      <td>8</td>\n",
       "      <td>318.0</td>\n",
       "      <td>150</td>\n",
       "      <td>3436</td>\n",
       "      <td>11.0</td>\n",
       "      <td>70</td>\n",
       "      <td>1</td>\n",
       "      <td>plymouth satellite</td>\n",
       "    </tr>\n",
       "  </tbody>\n",
       "</table>\n",
       "</div>"
      ],
      "text/plain": [
       "    mpg  cylinders  displacement  horsepower  weight  acceleration  year  \\\n",
       "0  18.0          8         307.0         130    3504          12.0    70   \n",
       "1  15.0          8         350.0         165    3693          11.5    70   \n",
       "2  18.0          8         318.0         150    3436          11.0    70   \n",
       "\n",
       "   origin                       name  \n",
       "0       1  chevrolet chevelle malibu  \n",
       "1       1          buick skylark 320  \n",
       "2       1         plymouth satellite  "
      ]
     },
     "execution_count": 92,
     "metadata": {},
     "output_type": "execute_result"
    }
   ],
   "source": [
    "# select rows by slicing \n",
    "Auto[:3]"
   ]
  },
  {
   "cell_type": "markdown",
   "id": "1831e0e4-1f99-4a77-9128-6be1484644b1",
   "metadata": {},
   "source": [
    "Similarly, an array of Booleans can be used to subset the rows:"
   ]
  },
  {
   "cell_type": "code",
   "execution_count": 96,
   "id": "9cb6252d-0a70-4f78-8b3a-b7a254ab75f0",
   "metadata": {},
   "outputs": [],
   "source": [
    "# select rows by Booleans \n",
    "idx_80 = Auto['year'] > 80\n",
    "Auto[idx_80];"
   ]
  },
  {
   "cell_type": "markdown",
   "id": "1b6faf65-0025-4a82-85da-93f2b6719c95",
   "metadata": {},
   "source": [
    "However, if we pass  in a list of strings to the `[]` method, then we obtain a data frame containing the corresponding set of *columns*. "
   ]
  },
  {
   "cell_type": "code",
   "execution_count": 98,
   "id": "e5d953b9-1160-4908-a23b-33c3a61d266a",
   "metadata": {},
   "outputs": [],
   "source": [
    "# select multiple columns using list of strings \n",
    "Auto[[\"mpg\",\"year\"]];"
   ]
  },
  {
   "cell_type": "markdown",
   "id": "6df13c87-d749-41ed-80a0-d4cef30f3e37",
   "metadata": {},
   "source": [
    "Since we did not specify an *index* column when we loaded our data frame, the rows are labeled using integers\n",
    "0 to 392."
   ]
  },
  {
   "cell_type": "code",
   "execution_count": 99,
   "id": "41a0942b-8266-4e31-bef4-9a371c945a72",
   "metadata": {},
   "outputs": [
    {
     "data": {
      "text/plain": [
       "RangeIndex(start=0, stop=392, step=1)"
      ]
     },
     "execution_count": 99,
     "metadata": {},
     "output_type": "execute_result"
    }
   ],
   "source": [
    "# look at the data index \n",
    "Auto.index"
   ]
  },
  {
   "cell_type": "markdown",
   "id": "824063ba-9886-45a5-b27f-6fbed7f16548",
   "metadata": {},
   "source": [
    "We can use the\n",
    "`set_index()` method to re-name the rows using the contents of `Auto['name']`. "
   ]
  },
  {
   "cell_type": "code",
   "execution_count": 102,
   "id": "fa452d34-a7fc-4136-877d-310878210e9b",
   "metadata": {},
   "outputs": [],
   "source": [
    "# set row index using 'name' column\n",
    "Auto_re = Auto.set_index(\"name\")"
   ]
  },
  {
   "cell_type": "code",
   "execution_count": 104,
   "id": "7d05f93a-b395-4528-bedf-fe1551e829aa",
   "metadata": {},
   "outputs": [
    {
     "data": {
      "text/html": [
       "<div>\n",
       "<style scoped>\n",
       "    .dataframe tbody tr th:only-of-type {\n",
       "        vertical-align: middle;\n",
       "    }\n",
       "\n",
       "    .dataframe tbody tr th {\n",
       "        vertical-align: top;\n",
       "    }\n",
       "\n",
       "    .dataframe thead th {\n",
       "        text-align: right;\n",
       "    }\n",
       "</style>\n",
       "<table border=\"1\" class=\"dataframe\">\n",
       "  <thead>\n",
       "    <tr style=\"text-align: right;\">\n",
       "      <th></th>\n",
       "      <th>mpg</th>\n",
       "      <th>cylinders</th>\n",
       "      <th>displacement</th>\n",
       "      <th>horsepower</th>\n",
       "      <th>weight</th>\n",
       "      <th>acceleration</th>\n",
       "      <th>year</th>\n",
       "      <th>origin</th>\n",
       "    </tr>\n",
       "    <tr>\n",
       "      <th>name</th>\n",
       "      <th></th>\n",
       "      <th></th>\n",
       "      <th></th>\n",
       "      <th></th>\n",
       "      <th></th>\n",
       "      <th></th>\n",
       "      <th></th>\n",
       "      <th></th>\n",
       "    </tr>\n",
       "  </thead>\n",
       "  <tbody>\n",
       "    <tr>\n",
       "      <th>chevrolet chevelle malibu</th>\n",
       "      <td>18.0</td>\n",
       "      <td>8</td>\n",
       "      <td>307.0</td>\n",
       "      <td>130</td>\n",
       "      <td>3504</td>\n",
       "      <td>12.0</td>\n",
       "      <td>70</td>\n",
       "      <td>1</td>\n",
       "    </tr>\n",
       "    <tr>\n",
       "      <th>buick skylark 320</th>\n",
       "      <td>15.0</td>\n",
       "      <td>8</td>\n",
       "      <td>350.0</td>\n",
       "      <td>165</td>\n",
       "      <td>3693</td>\n",
       "      <td>11.5</td>\n",
       "      <td>70</td>\n",
       "      <td>1</td>\n",
       "    </tr>\n",
       "    <tr>\n",
       "      <th>plymouth satellite</th>\n",
       "      <td>18.0</td>\n",
       "      <td>8</td>\n",
       "      <td>318.0</td>\n",
       "      <td>150</td>\n",
       "      <td>3436</td>\n",
       "      <td>11.0</td>\n",
       "      <td>70</td>\n",
       "      <td>1</td>\n",
       "    </tr>\n",
       "    <tr>\n",
       "      <th>amc rebel sst</th>\n",
       "      <td>16.0</td>\n",
       "      <td>8</td>\n",
       "      <td>304.0</td>\n",
       "      <td>150</td>\n",
       "      <td>3433</td>\n",
       "      <td>12.0</td>\n",
       "      <td>70</td>\n",
       "      <td>1</td>\n",
       "    </tr>\n",
       "    <tr>\n",
       "      <th>ford torino</th>\n",
       "      <td>17.0</td>\n",
       "      <td>8</td>\n",
       "      <td>302.0</td>\n",
       "      <td>140</td>\n",
       "      <td>3449</td>\n",
       "      <td>10.5</td>\n",
       "      <td>70</td>\n",
       "      <td>1</td>\n",
       "    </tr>\n",
       "    <tr>\n",
       "      <th>...</th>\n",
       "      <td>...</td>\n",
       "      <td>...</td>\n",
       "      <td>...</td>\n",
       "      <td>...</td>\n",
       "      <td>...</td>\n",
       "      <td>...</td>\n",
       "      <td>...</td>\n",
       "      <td>...</td>\n",
       "    </tr>\n",
       "    <tr>\n",
       "      <th>ford mustang gl</th>\n",
       "      <td>27.0</td>\n",
       "      <td>4</td>\n",
       "      <td>140.0</td>\n",
       "      <td>86</td>\n",
       "      <td>2790</td>\n",
       "      <td>15.6</td>\n",
       "      <td>82</td>\n",
       "      <td>1</td>\n",
       "    </tr>\n",
       "    <tr>\n",
       "      <th>vw pickup</th>\n",
       "      <td>44.0</td>\n",
       "      <td>4</td>\n",
       "      <td>97.0</td>\n",
       "      <td>52</td>\n",
       "      <td>2130</td>\n",
       "      <td>24.6</td>\n",
       "      <td>82</td>\n",
       "      <td>2</td>\n",
       "    </tr>\n",
       "    <tr>\n",
       "      <th>dodge rampage</th>\n",
       "      <td>32.0</td>\n",
       "      <td>4</td>\n",
       "      <td>135.0</td>\n",
       "      <td>84</td>\n",
       "      <td>2295</td>\n",
       "      <td>11.6</td>\n",
       "      <td>82</td>\n",
       "      <td>1</td>\n",
       "    </tr>\n",
       "    <tr>\n",
       "      <th>ford ranger</th>\n",
       "      <td>28.0</td>\n",
       "      <td>4</td>\n",
       "      <td>120.0</td>\n",
       "      <td>79</td>\n",
       "      <td>2625</td>\n",
       "      <td>18.6</td>\n",
       "      <td>82</td>\n",
       "      <td>1</td>\n",
       "    </tr>\n",
       "    <tr>\n",
       "      <th>chevy s-10</th>\n",
       "      <td>31.0</td>\n",
       "      <td>4</td>\n",
       "      <td>119.0</td>\n",
       "      <td>82</td>\n",
       "      <td>2720</td>\n",
       "      <td>19.4</td>\n",
       "      <td>82</td>\n",
       "      <td>1</td>\n",
       "    </tr>\n",
       "  </tbody>\n",
       "</table>\n",
       "<p>392 rows × 8 columns</p>\n",
       "</div>"
      ],
      "text/plain": [
       "                            mpg  cylinders  displacement  horsepower  weight  \\\n",
       "name                                                                           \n",
       "chevrolet chevelle malibu  18.0          8         307.0         130    3504   \n",
       "buick skylark 320          15.0          8         350.0         165    3693   \n",
       "plymouth satellite         18.0          8         318.0         150    3436   \n",
       "amc rebel sst              16.0          8         304.0         150    3433   \n",
       "ford torino                17.0          8         302.0         140    3449   \n",
       "...                         ...        ...           ...         ...     ...   \n",
       "ford mustang gl            27.0          4         140.0          86    2790   \n",
       "vw pickup                  44.0          4          97.0          52    2130   \n",
       "dodge rampage              32.0          4         135.0          84    2295   \n",
       "ford ranger                28.0          4         120.0          79    2625   \n",
       "chevy s-10                 31.0          4         119.0          82    2720   \n",
       "\n",
       "                           acceleration  year  origin  \n",
       "name                                                   \n",
       "chevrolet chevelle malibu          12.0    70       1  \n",
       "buick skylark 320                  11.5    70       1  \n",
       "plymouth satellite                 11.0    70       1  \n",
       "amc rebel sst                      12.0    70       1  \n",
       "ford torino                        10.5    70       1  \n",
       "...                                 ...   ...     ...  \n",
       "ford mustang gl                    15.6    82       1  \n",
       "vw pickup                          24.6    82       2  \n",
       "dodge rampage                      11.6    82       1  \n",
       "ford ranger                        18.6    82       1  \n",
       "chevy s-10                         19.4    82       1  \n",
       "\n",
       "[392 rows x 8 columns]"
      ]
     },
     "execution_count": 104,
     "metadata": {},
     "output_type": "execute_result"
    }
   ],
   "source": [
    "# check column names again \n",
    "Auto_re.columns\n",
    "Auto_re"
   ]
  },
  {
   "cell_type": "markdown",
   "id": "8579f71e-d4af-4109-ba2c-93c7e1a72cde",
   "metadata": {},
   "source": [
    "Now that the index has been set to `name`, we can  access rows of the data \n",
    "frame by `name` using the `{loc[]`} method of\n",
    "`Auto`:"
   ]
  },
  {
   "cell_type": "code",
   "execution_count": 105,
   "id": "b8795f07-e471-4d3c-b9cf-a9aa0a67b0a6",
   "metadata": {},
   "outputs": [
    {
     "data": {
      "text/html": [
       "<div>\n",
       "<style scoped>\n",
       "    .dataframe tbody tr th:only-of-type {\n",
       "        vertical-align: middle;\n",
       "    }\n",
       "\n",
       "    .dataframe tbody tr th {\n",
       "        vertical-align: top;\n",
       "    }\n",
       "\n",
       "    .dataframe thead th {\n",
       "        text-align: right;\n",
       "    }\n",
       "</style>\n",
       "<table border=\"1\" class=\"dataframe\">\n",
       "  <thead>\n",
       "    <tr style=\"text-align: right;\">\n",
       "      <th></th>\n",
       "      <th>mpg</th>\n",
       "      <th>cylinders</th>\n",
       "      <th>displacement</th>\n",
       "      <th>horsepower</th>\n",
       "      <th>weight</th>\n",
       "      <th>acceleration</th>\n",
       "      <th>year</th>\n",
       "      <th>origin</th>\n",
       "    </tr>\n",
       "    <tr>\n",
       "      <th>name</th>\n",
       "      <th></th>\n",
       "      <th></th>\n",
       "      <th></th>\n",
       "      <th></th>\n",
       "      <th></th>\n",
       "      <th></th>\n",
       "      <th></th>\n",
       "      <th></th>\n",
       "    </tr>\n",
       "  </thead>\n",
       "  <tbody>\n",
       "    <tr>\n",
       "      <th>amc rebel sst</th>\n",
       "      <td>16.0</td>\n",
       "      <td>8</td>\n",
       "      <td>304.0</td>\n",
       "      <td>150</td>\n",
       "      <td>3433</td>\n",
       "      <td>12.0</td>\n",
       "      <td>70</td>\n",
       "      <td>1</td>\n",
       "    </tr>\n",
       "    <tr>\n",
       "      <th>ford torino</th>\n",
       "      <td>17.0</td>\n",
       "      <td>8</td>\n",
       "      <td>302.0</td>\n",
       "      <td>140</td>\n",
       "      <td>3449</td>\n",
       "      <td>10.5</td>\n",
       "      <td>70</td>\n",
       "      <td>1</td>\n",
       "    </tr>\n",
       "  </tbody>\n",
       "</table>\n",
       "</div>"
      ],
      "text/plain": [
       "                mpg  cylinders  displacement  horsepower  weight  \\\n",
       "name                                                               \n",
       "amc rebel sst  16.0          8         304.0         150    3433   \n",
       "ford torino    17.0          8         302.0         140    3449   \n",
       "\n",
       "               acceleration  year  origin  \n",
       "name                                       \n",
       "amc rebel sst          12.0    70       1  \n",
       "ford torino            10.5    70       1  "
      ]
     },
     "execution_count": 105,
     "metadata": {},
     "output_type": "execute_result"
    }
   ],
   "source": [
    "# set rows based on row names \n",
    "rows = [\"amc rebel sst\", \"ford torino\"]\n",
    "Auto_re.loc[rows]"
   ]
  },
  {
   "cell_type": "markdown",
   "id": "51bbbda2-cb8f-484e-89f1-b35693acd05f",
   "metadata": {},
   "source": [
    "As an alternative to using the index name, we could retrieve the 4th and 5th rows of `Auto` using the `{iloc[]`} method:"
   ]
  },
  {
   "cell_type": "code",
   "execution_count": 108,
   "id": "d9dd8977-5dc4-4e3b-9df2-cabde2869019",
   "metadata": {},
   "outputs": [
    {
     "data": {
      "text/html": [
       "<div>\n",
       "<style scoped>\n",
       "    .dataframe tbody tr th:only-of-type {\n",
       "        vertical-align: middle;\n",
       "    }\n",
       "\n",
       "    .dataframe tbody tr th {\n",
       "        vertical-align: top;\n",
       "    }\n",
       "\n",
       "    .dataframe thead th {\n",
       "        text-align: right;\n",
       "    }\n",
       "</style>\n",
       "<table border=\"1\" class=\"dataframe\">\n",
       "  <thead>\n",
       "    <tr style=\"text-align: right;\">\n",
       "      <th></th>\n",
       "      <th>mpg</th>\n",
       "      <th>cylinders</th>\n",
       "      <th>displacement</th>\n",
       "      <th>horsepower</th>\n",
       "      <th>weight</th>\n",
       "      <th>acceleration</th>\n",
       "      <th>year</th>\n",
       "      <th>origin</th>\n",
       "    </tr>\n",
       "    <tr>\n",
       "      <th>name</th>\n",
       "      <th></th>\n",
       "      <th></th>\n",
       "      <th></th>\n",
       "      <th></th>\n",
       "      <th></th>\n",
       "      <th></th>\n",
       "      <th></th>\n",
       "      <th></th>\n",
       "    </tr>\n",
       "  </thead>\n",
       "  <tbody>\n",
       "    <tr>\n",
       "      <th>amc rebel sst</th>\n",
       "      <td>16.0</td>\n",
       "      <td>8</td>\n",
       "      <td>304.0</td>\n",
       "      <td>150</td>\n",
       "      <td>3433</td>\n",
       "      <td>12.0</td>\n",
       "      <td>70</td>\n",
       "      <td>1</td>\n",
       "    </tr>\n",
       "    <tr>\n",
       "      <th>ford torino</th>\n",
       "      <td>17.0</td>\n",
       "      <td>8</td>\n",
       "      <td>302.0</td>\n",
       "      <td>140</td>\n",
       "      <td>3449</td>\n",
       "      <td>10.5</td>\n",
       "      <td>70</td>\n",
       "      <td>1</td>\n",
       "    </tr>\n",
       "  </tbody>\n",
       "</table>\n",
       "</div>"
      ],
      "text/plain": [
       "                mpg  cylinders  displacement  horsepower  weight  \\\n",
       "name                                                               \n",
       "amc rebel sst  16.0          8         304.0         150    3433   \n",
       "ford torino    17.0          8         302.0         140    3449   \n",
       "\n",
       "               acceleration  year  origin  \n",
       "name                                       \n",
       "amc rebel sst          12.0    70       1  \n",
       "ford torino            10.5    70       1  "
      ]
     },
     "execution_count": 108,
     "metadata": {},
     "output_type": "execute_result"
    }
   ],
   "source": [
    "# use `iloc` method to select rows\n",
    "Auto_re.iloc[[3,4]]"
   ]
  },
  {
   "cell_type": "markdown",
   "id": "8f0a6367-c760-4b3c-b2e4-c900525057b0",
   "metadata": {},
   "source": [
    "We can also use it to retrieve the 1st, 3rd and and 4th columns of `Auto_re`:"
   ]
  },
  {
   "cell_type": "code",
   "execution_count": 109,
   "id": "5d83f475-80f4-4c2c-be08-e9a10743c413",
   "metadata": {},
   "outputs": [
    {
     "data": {
      "text/html": [
       "<div>\n",
       "<style scoped>\n",
       "    .dataframe tbody tr th:only-of-type {\n",
       "        vertical-align: middle;\n",
       "    }\n",
       "\n",
       "    .dataframe tbody tr th {\n",
       "        vertical-align: top;\n",
       "    }\n",
       "\n",
       "    .dataframe thead th {\n",
       "        text-align: right;\n",
       "    }\n",
       "</style>\n",
       "<table border=\"1\" class=\"dataframe\">\n",
       "  <thead>\n",
       "    <tr style=\"text-align: right;\">\n",
       "      <th></th>\n",
       "      <th>mpg</th>\n",
       "      <th>horsepower</th>\n",
       "      <th>weight</th>\n",
       "    </tr>\n",
       "    <tr>\n",
       "      <th>name</th>\n",
       "      <th></th>\n",
       "      <th></th>\n",
       "      <th></th>\n",
       "    </tr>\n",
       "  </thead>\n",
       "  <tbody>\n",
       "    <tr>\n",
       "      <th>chevrolet chevelle malibu</th>\n",
       "      <td>18.0</td>\n",
       "      <td>130</td>\n",
       "      <td>3504</td>\n",
       "    </tr>\n",
       "    <tr>\n",
       "      <th>buick skylark 320</th>\n",
       "      <td>15.0</td>\n",
       "      <td>165</td>\n",
       "      <td>3693</td>\n",
       "    </tr>\n",
       "    <tr>\n",
       "      <th>plymouth satellite</th>\n",
       "      <td>18.0</td>\n",
       "      <td>150</td>\n",
       "      <td>3436</td>\n",
       "    </tr>\n",
       "    <tr>\n",
       "      <th>amc rebel sst</th>\n",
       "      <td>16.0</td>\n",
       "      <td>150</td>\n",
       "      <td>3433</td>\n",
       "    </tr>\n",
       "    <tr>\n",
       "      <th>ford torino</th>\n",
       "      <td>17.0</td>\n",
       "      <td>140</td>\n",
       "      <td>3449</td>\n",
       "    </tr>\n",
       "    <tr>\n",
       "      <th>...</th>\n",
       "      <td>...</td>\n",
       "      <td>...</td>\n",
       "      <td>...</td>\n",
       "    </tr>\n",
       "    <tr>\n",
       "      <th>ford mustang gl</th>\n",
       "      <td>27.0</td>\n",
       "      <td>86</td>\n",
       "      <td>2790</td>\n",
       "    </tr>\n",
       "    <tr>\n",
       "      <th>vw pickup</th>\n",
       "      <td>44.0</td>\n",
       "      <td>52</td>\n",
       "      <td>2130</td>\n",
       "    </tr>\n",
       "    <tr>\n",
       "      <th>dodge rampage</th>\n",
       "      <td>32.0</td>\n",
       "      <td>84</td>\n",
       "      <td>2295</td>\n",
       "    </tr>\n",
       "    <tr>\n",
       "      <th>ford ranger</th>\n",
       "      <td>28.0</td>\n",
       "      <td>79</td>\n",
       "      <td>2625</td>\n",
       "    </tr>\n",
       "    <tr>\n",
       "      <th>chevy s-10</th>\n",
       "      <td>31.0</td>\n",
       "      <td>82</td>\n",
       "      <td>2720</td>\n",
       "    </tr>\n",
       "  </tbody>\n",
       "</table>\n",
       "<p>392 rows × 3 columns</p>\n",
       "</div>"
      ],
      "text/plain": [
       "                            mpg  horsepower  weight\n",
       "name                                               \n",
       "chevrolet chevelle malibu  18.0         130    3504\n",
       "buick skylark 320          15.0         165    3693\n",
       "plymouth satellite         18.0         150    3436\n",
       "amc rebel sst              16.0         150    3433\n",
       "ford torino                17.0         140    3449\n",
       "...                         ...         ...     ...\n",
       "ford mustang gl            27.0          86    2790\n",
       "vw pickup                  44.0          52    2130\n",
       "dodge rampage              32.0          84    2295\n",
       "ford ranger                28.0          79    2625\n",
       "chevy s-10                 31.0          82    2720\n",
       "\n",
       "[392 rows x 3 columns]"
      ]
     },
     "execution_count": 109,
     "metadata": {},
     "output_type": "execute_result"
    }
   ],
   "source": [
    "# use `iloc` method to select columns \n",
    "Auto_re.iloc[:, [0,3,4]]"
   ]
  },
  {
   "cell_type": "markdown",
   "id": "bd1ea731-297d-483f-876d-480d96f0a3cb",
   "metadata": {},
   "source": [
    "We can extract the 4th and 5th rows, as well as the 1st, 3rd and 4th columns, using\n",
    "a single call to `iloc[]`:"
   ]
  },
  {
   "cell_type": "code",
   "execution_count": 110,
   "id": "8fbaa344-94ef-4689-8497-5da867eed61a",
   "metadata": {},
   "outputs": [
    {
     "data": {
      "text/html": [
       "<div>\n",
       "<style scoped>\n",
       "    .dataframe tbody tr th:only-of-type {\n",
       "        vertical-align: middle;\n",
       "    }\n",
       "\n",
       "    .dataframe tbody tr th {\n",
       "        vertical-align: top;\n",
       "    }\n",
       "\n",
       "    .dataframe thead th {\n",
       "        text-align: right;\n",
       "    }\n",
       "</style>\n",
       "<table border=\"1\" class=\"dataframe\">\n",
       "  <thead>\n",
       "    <tr style=\"text-align: right;\">\n",
       "      <th></th>\n",
       "      <th>mpg</th>\n",
       "      <th>displacement</th>\n",
       "      <th>horsepower</th>\n",
       "    </tr>\n",
       "    <tr>\n",
       "      <th>name</th>\n",
       "      <th></th>\n",
       "      <th></th>\n",
       "      <th></th>\n",
       "    </tr>\n",
       "  </thead>\n",
       "  <tbody>\n",
       "    <tr>\n",
       "      <th>amc rebel sst</th>\n",
       "      <td>16.0</td>\n",
       "      <td>304.0</td>\n",
       "      <td>150</td>\n",
       "    </tr>\n",
       "    <tr>\n",
       "      <th>ford torino</th>\n",
       "      <td>17.0</td>\n",
       "      <td>302.0</td>\n",
       "      <td>140</td>\n",
       "    </tr>\n",
       "  </tbody>\n",
       "</table>\n",
       "</div>"
      ],
      "text/plain": [
       "                mpg  displacement  horsepower\n",
       "name                                         \n",
       "amc rebel sst  16.0         304.0         150\n",
       "ford torino    17.0         302.0         140"
      ]
     },
     "execution_count": 110,
     "metadata": {},
     "output_type": "execute_result"
    }
   ],
   "source": [
    "# use `iloc` to select both rows and columns; this wouldn't work in Numpy! \n",
    "Auto_re.iloc[[3,4], [0,2,3]]"
   ]
  },
  {
   "cell_type": "markdown",
   "id": "1002073a-753b-4d62-a239-3e40b5451f84",
   "metadata": {},
   "source": [
    "Suppose now that we want to create a data frame consisting of the  `weight` and `origin`  of the subset of cars with \n",
    "`year` greater than 80 --- i.e. those built after 1980.\n",
    "To do this, we first create a Boolean array that indexes the rows.\n",
    "The `loc[]` method allows for Boolean entries as well as strings:"
   ]
  },
  {
   "cell_type": "code",
   "execution_count": 111,
   "id": "f519dcd7-2219-43fe-a4bd-f250f4e9ab2f",
   "metadata": {},
   "outputs": [
    {
     "data": {
      "text/html": [
       "<div>\n",
       "<style scoped>\n",
       "    .dataframe tbody tr th:only-of-type {\n",
       "        vertical-align: middle;\n",
       "    }\n",
       "\n",
       "    .dataframe tbody tr th {\n",
       "        vertical-align: top;\n",
       "    }\n",
       "\n",
       "    .dataframe thead th {\n",
       "        text-align: right;\n",
       "    }\n",
       "</style>\n",
       "<table border=\"1\" class=\"dataframe\">\n",
       "  <thead>\n",
       "    <tr style=\"text-align: right;\">\n",
       "      <th></th>\n",
       "      <th>weight</th>\n",
       "      <th>origin</th>\n",
       "    </tr>\n",
       "    <tr>\n",
       "      <th>name</th>\n",
       "      <th></th>\n",
       "      <th></th>\n",
       "    </tr>\n",
       "  </thead>\n",
       "  <tbody>\n",
       "    <tr>\n",
       "      <th>plymouth reliant</th>\n",
       "      <td>2490</td>\n",
       "      <td>1</td>\n",
       "    </tr>\n",
       "    <tr>\n",
       "      <th>buick skylark</th>\n",
       "      <td>2635</td>\n",
       "      <td>1</td>\n",
       "    </tr>\n",
       "    <tr>\n",
       "      <th>dodge aries wagon (sw)</th>\n",
       "      <td>2620</td>\n",
       "      <td>1</td>\n",
       "    </tr>\n",
       "    <tr>\n",
       "      <th>chevrolet citation</th>\n",
       "      <td>2725</td>\n",
       "      <td>1</td>\n",
       "    </tr>\n",
       "    <tr>\n",
       "      <th>plymouth reliant</th>\n",
       "      <td>2385</td>\n",
       "      <td>1</td>\n",
       "    </tr>\n",
       "    <tr>\n",
       "      <th>toyota starlet</th>\n",
       "      <td>1755</td>\n",
       "      <td>3</td>\n",
       "    </tr>\n",
       "    <tr>\n",
       "      <th>plymouth champ</th>\n",
       "      <td>1875</td>\n",
       "      <td>1</td>\n",
       "    </tr>\n",
       "    <tr>\n",
       "      <th>honda civic 1300</th>\n",
       "      <td>1760</td>\n",
       "      <td>3</td>\n",
       "    </tr>\n",
       "    <tr>\n",
       "      <th>subaru</th>\n",
       "      <td>2065</td>\n",
       "      <td>3</td>\n",
       "    </tr>\n",
       "    <tr>\n",
       "      <th>datsun 210 mpg</th>\n",
       "      <td>1975</td>\n",
       "      <td>3</td>\n",
       "    </tr>\n",
       "    <tr>\n",
       "      <th>toyota tercel</th>\n",
       "      <td>2050</td>\n",
       "      <td>3</td>\n",
       "    </tr>\n",
       "    <tr>\n",
       "      <th>mazda glc 4</th>\n",
       "      <td>1985</td>\n",
       "      <td>3</td>\n",
       "    </tr>\n",
       "    <tr>\n",
       "      <th>plymouth horizon 4</th>\n",
       "      <td>2215</td>\n",
       "      <td>1</td>\n",
       "    </tr>\n",
       "    <tr>\n",
       "      <th>ford escort 4w</th>\n",
       "      <td>2045</td>\n",
       "      <td>1</td>\n",
       "    </tr>\n",
       "    <tr>\n",
       "      <th>ford escort 2h</th>\n",
       "      <td>2380</td>\n",
       "      <td>1</td>\n",
       "    </tr>\n",
       "    <tr>\n",
       "      <th>volkswagen jetta</th>\n",
       "      <td>2190</td>\n",
       "      <td>2</td>\n",
       "    </tr>\n",
       "    <tr>\n",
       "      <th>honda prelude</th>\n",
       "      <td>2210</td>\n",
       "      <td>3</td>\n",
       "    </tr>\n",
       "    <tr>\n",
       "      <th>toyota corolla</th>\n",
       "      <td>2350</td>\n",
       "      <td>3</td>\n",
       "    </tr>\n",
       "    <tr>\n",
       "      <th>datsun 200sx</th>\n",
       "      <td>2615</td>\n",
       "      <td>3</td>\n",
       "    </tr>\n",
       "    <tr>\n",
       "      <th>mazda 626</th>\n",
       "      <td>2635</td>\n",
       "      <td>3</td>\n",
       "    </tr>\n",
       "    <tr>\n",
       "      <th>peugeot 505s turbo diesel</th>\n",
       "      <td>3230</td>\n",
       "      <td>2</td>\n",
       "    </tr>\n",
       "    <tr>\n",
       "      <th>volvo diesel</th>\n",
       "      <td>3160</td>\n",
       "      <td>2</td>\n",
       "    </tr>\n",
       "    <tr>\n",
       "      <th>toyota cressida</th>\n",
       "      <td>2900</td>\n",
       "      <td>3</td>\n",
       "    </tr>\n",
       "    <tr>\n",
       "      <th>datsun 810 maxima</th>\n",
       "      <td>2930</td>\n",
       "      <td>3</td>\n",
       "    </tr>\n",
       "    <tr>\n",
       "      <th>buick century</th>\n",
       "      <td>3415</td>\n",
       "      <td>1</td>\n",
       "    </tr>\n",
       "    <tr>\n",
       "      <th>oldsmobile cutlass ls</th>\n",
       "      <td>3725</td>\n",
       "      <td>1</td>\n",
       "    </tr>\n",
       "    <tr>\n",
       "      <th>ford granada gl</th>\n",
       "      <td>3060</td>\n",
       "      <td>1</td>\n",
       "    </tr>\n",
       "    <tr>\n",
       "      <th>chrysler lebaron salon</th>\n",
       "      <td>3465</td>\n",
       "      <td>1</td>\n",
       "    </tr>\n",
       "    <tr>\n",
       "      <th>chevrolet cavalier</th>\n",
       "      <td>2605</td>\n",
       "      <td>1</td>\n",
       "    </tr>\n",
       "    <tr>\n",
       "      <th>chevrolet cavalier wagon</th>\n",
       "      <td>2640</td>\n",
       "      <td>1</td>\n",
       "    </tr>\n",
       "    <tr>\n",
       "      <th>chevrolet cavalier 2-door</th>\n",
       "      <td>2395</td>\n",
       "      <td>1</td>\n",
       "    </tr>\n",
       "    <tr>\n",
       "      <th>pontiac j2000 se hatchback</th>\n",
       "      <td>2575</td>\n",
       "      <td>1</td>\n",
       "    </tr>\n",
       "    <tr>\n",
       "      <th>dodge aries se</th>\n",
       "      <td>2525</td>\n",
       "      <td>1</td>\n",
       "    </tr>\n",
       "    <tr>\n",
       "      <th>pontiac phoenix</th>\n",
       "      <td>2735</td>\n",
       "      <td>1</td>\n",
       "    </tr>\n",
       "    <tr>\n",
       "      <th>ford fairmont futura</th>\n",
       "      <td>2865</td>\n",
       "      <td>1</td>\n",
       "    </tr>\n",
       "    <tr>\n",
       "      <th>volkswagen rabbit l</th>\n",
       "      <td>1980</td>\n",
       "      <td>2</td>\n",
       "    </tr>\n",
       "    <tr>\n",
       "      <th>mazda glc custom l</th>\n",
       "      <td>2025</td>\n",
       "      <td>3</td>\n",
       "    </tr>\n",
       "    <tr>\n",
       "      <th>mazda glc custom</th>\n",
       "      <td>1970</td>\n",
       "      <td>3</td>\n",
       "    </tr>\n",
       "    <tr>\n",
       "      <th>plymouth horizon miser</th>\n",
       "      <td>2125</td>\n",
       "      <td>1</td>\n",
       "    </tr>\n",
       "    <tr>\n",
       "      <th>mercury lynx l</th>\n",
       "      <td>2125</td>\n",
       "      <td>1</td>\n",
       "    </tr>\n",
       "    <tr>\n",
       "      <th>nissan stanza xe</th>\n",
       "      <td>2160</td>\n",
       "      <td>3</td>\n",
       "    </tr>\n",
       "    <tr>\n",
       "      <th>honda accord</th>\n",
       "      <td>2205</td>\n",
       "      <td>3</td>\n",
       "    </tr>\n",
       "    <tr>\n",
       "      <th>toyota corolla</th>\n",
       "      <td>2245</td>\n",
       "      <td>3</td>\n",
       "    </tr>\n",
       "    <tr>\n",
       "      <th>honda civic</th>\n",
       "      <td>1965</td>\n",
       "      <td>3</td>\n",
       "    </tr>\n",
       "    <tr>\n",
       "      <th>honda civic (auto)</th>\n",
       "      <td>1965</td>\n",
       "      <td>3</td>\n",
       "    </tr>\n",
       "    <tr>\n",
       "      <th>datsun 310 gx</th>\n",
       "      <td>1995</td>\n",
       "      <td>3</td>\n",
       "    </tr>\n",
       "    <tr>\n",
       "      <th>buick century limited</th>\n",
       "      <td>2945</td>\n",
       "      <td>1</td>\n",
       "    </tr>\n",
       "    <tr>\n",
       "      <th>oldsmobile cutlass ciera (diesel)</th>\n",
       "      <td>3015</td>\n",
       "      <td>1</td>\n",
       "    </tr>\n",
       "    <tr>\n",
       "      <th>chrysler lebaron medallion</th>\n",
       "      <td>2585</td>\n",
       "      <td>1</td>\n",
       "    </tr>\n",
       "    <tr>\n",
       "      <th>ford granada l</th>\n",
       "      <td>2835</td>\n",
       "      <td>1</td>\n",
       "    </tr>\n",
       "    <tr>\n",
       "      <th>toyota celica gt</th>\n",
       "      <td>2665</td>\n",
       "      <td>3</td>\n",
       "    </tr>\n",
       "    <tr>\n",
       "      <th>dodge charger 2.2</th>\n",
       "      <td>2370</td>\n",
       "      <td>1</td>\n",
       "    </tr>\n",
       "    <tr>\n",
       "      <th>chevrolet camaro</th>\n",
       "      <td>2950</td>\n",
       "      <td>1</td>\n",
       "    </tr>\n",
       "    <tr>\n",
       "      <th>ford mustang gl</th>\n",
       "      <td>2790</td>\n",
       "      <td>1</td>\n",
       "    </tr>\n",
       "    <tr>\n",
       "      <th>vw pickup</th>\n",
       "      <td>2130</td>\n",
       "      <td>2</td>\n",
       "    </tr>\n",
       "    <tr>\n",
       "      <th>dodge rampage</th>\n",
       "      <td>2295</td>\n",
       "      <td>1</td>\n",
       "    </tr>\n",
       "    <tr>\n",
       "      <th>ford ranger</th>\n",
       "      <td>2625</td>\n",
       "      <td>1</td>\n",
       "    </tr>\n",
       "    <tr>\n",
       "      <th>chevy s-10</th>\n",
       "      <td>2720</td>\n",
       "      <td>1</td>\n",
       "    </tr>\n",
       "  </tbody>\n",
       "</table>\n",
       "</div>"
      ],
      "text/plain": [
       "                                   weight  origin\n",
       "name                                             \n",
       "plymouth reliant                     2490       1\n",
       "buick skylark                        2635       1\n",
       "dodge aries wagon (sw)               2620       1\n",
       "chevrolet citation                   2725       1\n",
       "plymouth reliant                     2385       1\n",
       "toyota starlet                       1755       3\n",
       "plymouth champ                       1875       1\n",
       "honda civic 1300                     1760       3\n",
       "subaru                               2065       3\n",
       "datsun 210 mpg                       1975       3\n",
       "toyota tercel                        2050       3\n",
       "mazda glc 4                          1985       3\n",
       "plymouth horizon 4                   2215       1\n",
       "ford escort 4w                       2045       1\n",
       "ford escort 2h                       2380       1\n",
       "volkswagen jetta                     2190       2\n",
       "honda prelude                        2210       3\n",
       "toyota corolla                       2350       3\n",
       "datsun 200sx                         2615       3\n",
       "mazda 626                            2635       3\n",
       "peugeot 505s turbo diesel            3230       2\n",
       "volvo diesel                         3160       2\n",
       "toyota cressida                      2900       3\n",
       "datsun 810 maxima                    2930       3\n",
       "buick century                        3415       1\n",
       "oldsmobile cutlass ls                3725       1\n",
       "ford granada gl                      3060       1\n",
       "chrysler lebaron salon               3465       1\n",
       "chevrolet cavalier                   2605       1\n",
       "chevrolet cavalier wagon             2640       1\n",
       "chevrolet cavalier 2-door            2395       1\n",
       "pontiac j2000 se hatchback           2575       1\n",
       "dodge aries se                       2525       1\n",
       "pontiac phoenix                      2735       1\n",
       "ford fairmont futura                 2865       1\n",
       "volkswagen rabbit l                  1980       2\n",
       "mazda glc custom l                   2025       3\n",
       "mazda glc custom                     1970       3\n",
       "plymouth horizon miser               2125       1\n",
       "mercury lynx l                       2125       1\n",
       "nissan stanza xe                     2160       3\n",
       "honda accord                         2205       3\n",
       "toyota corolla                       2245       3\n",
       "honda civic                          1965       3\n",
       "honda civic (auto)                   1965       3\n",
       "datsun 310 gx                        1995       3\n",
       "buick century limited                2945       1\n",
       "oldsmobile cutlass ciera (diesel)    3015       1\n",
       "chrysler lebaron medallion           2585       1\n",
       "ford granada l                       2835       1\n",
       "toyota celica gt                     2665       3\n",
       "dodge charger 2.2                    2370       1\n",
       "chevrolet camaro                     2950       1\n",
       "ford mustang gl                      2790       1\n",
       "vw pickup                            2130       2\n",
       "dodge rampage                        2295       1\n",
       "ford ranger                          2625       1\n",
       "chevy s-10                           2720       1"
      ]
     },
     "execution_count": 111,
     "metadata": {},
     "output_type": "execute_result"
    }
   ],
   "source": [
    "# select rows based on boolean values \n",
    "idx_80 = Auto_re['year'] > 80\n",
    "Auto_re.loc[idx_80, ['weight', 'origin']]"
   ]
  },
  {
   "cell_type": "markdown",
   "id": "d4dc5608-d9d0-4acc-95cf-cda2e346a44b",
   "metadata": {},
   "source": [
    "To do this more concisely, we can use an anonymous function called a `lambda`: "
   ]
  },
  {
   "cell_type": "code",
   "execution_count": 112,
   "id": "14901f0d-188e-4eb0-8ff1-a15af0bab0e5",
   "metadata": {
    "scrolled": true
   },
   "outputs": [
    {
     "data": {
      "text/html": [
       "<div>\n",
       "<style scoped>\n",
       "    .dataframe tbody tr th:only-of-type {\n",
       "        vertical-align: middle;\n",
       "    }\n",
       "\n",
       "    .dataframe tbody tr th {\n",
       "        vertical-align: top;\n",
       "    }\n",
       "\n",
       "    .dataframe thead th {\n",
       "        text-align: right;\n",
       "    }\n",
       "</style>\n",
       "<table border=\"1\" class=\"dataframe\">\n",
       "  <thead>\n",
       "    <tr style=\"text-align: right;\">\n",
       "      <th></th>\n",
       "      <th>weight</th>\n",
       "      <th>origin</th>\n",
       "    </tr>\n",
       "    <tr>\n",
       "      <th>name</th>\n",
       "      <th></th>\n",
       "      <th></th>\n",
       "    </tr>\n",
       "  </thead>\n",
       "  <tbody>\n",
       "    <tr>\n",
       "      <th>plymouth reliant</th>\n",
       "      <td>2490</td>\n",
       "      <td>1</td>\n",
       "    </tr>\n",
       "    <tr>\n",
       "      <th>buick skylark</th>\n",
       "      <td>2635</td>\n",
       "      <td>1</td>\n",
       "    </tr>\n",
       "    <tr>\n",
       "      <th>dodge aries wagon (sw)</th>\n",
       "      <td>2620</td>\n",
       "      <td>1</td>\n",
       "    </tr>\n",
       "    <tr>\n",
       "      <th>chevrolet citation</th>\n",
       "      <td>2725</td>\n",
       "      <td>1</td>\n",
       "    </tr>\n",
       "    <tr>\n",
       "      <th>plymouth reliant</th>\n",
       "      <td>2385</td>\n",
       "      <td>1</td>\n",
       "    </tr>\n",
       "    <tr>\n",
       "      <th>toyota starlet</th>\n",
       "      <td>1755</td>\n",
       "      <td>3</td>\n",
       "    </tr>\n",
       "    <tr>\n",
       "      <th>plymouth champ</th>\n",
       "      <td>1875</td>\n",
       "      <td>1</td>\n",
       "    </tr>\n",
       "    <tr>\n",
       "      <th>honda civic 1300</th>\n",
       "      <td>1760</td>\n",
       "      <td>3</td>\n",
       "    </tr>\n",
       "    <tr>\n",
       "      <th>subaru</th>\n",
       "      <td>2065</td>\n",
       "      <td>3</td>\n",
       "    </tr>\n",
       "    <tr>\n",
       "      <th>datsun 210 mpg</th>\n",
       "      <td>1975</td>\n",
       "      <td>3</td>\n",
       "    </tr>\n",
       "    <tr>\n",
       "      <th>toyota tercel</th>\n",
       "      <td>2050</td>\n",
       "      <td>3</td>\n",
       "    </tr>\n",
       "    <tr>\n",
       "      <th>mazda glc 4</th>\n",
       "      <td>1985</td>\n",
       "      <td>3</td>\n",
       "    </tr>\n",
       "    <tr>\n",
       "      <th>plymouth horizon 4</th>\n",
       "      <td>2215</td>\n",
       "      <td>1</td>\n",
       "    </tr>\n",
       "    <tr>\n",
       "      <th>ford escort 4w</th>\n",
       "      <td>2045</td>\n",
       "      <td>1</td>\n",
       "    </tr>\n",
       "    <tr>\n",
       "      <th>ford escort 2h</th>\n",
       "      <td>2380</td>\n",
       "      <td>1</td>\n",
       "    </tr>\n",
       "    <tr>\n",
       "      <th>volkswagen jetta</th>\n",
       "      <td>2190</td>\n",
       "      <td>2</td>\n",
       "    </tr>\n",
       "    <tr>\n",
       "      <th>honda prelude</th>\n",
       "      <td>2210</td>\n",
       "      <td>3</td>\n",
       "    </tr>\n",
       "    <tr>\n",
       "      <th>toyota corolla</th>\n",
       "      <td>2350</td>\n",
       "      <td>3</td>\n",
       "    </tr>\n",
       "    <tr>\n",
       "      <th>datsun 200sx</th>\n",
       "      <td>2615</td>\n",
       "      <td>3</td>\n",
       "    </tr>\n",
       "    <tr>\n",
       "      <th>mazda 626</th>\n",
       "      <td>2635</td>\n",
       "      <td>3</td>\n",
       "    </tr>\n",
       "    <tr>\n",
       "      <th>peugeot 505s turbo diesel</th>\n",
       "      <td>3230</td>\n",
       "      <td>2</td>\n",
       "    </tr>\n",
       "    <tr>\n",
       "      <th>volvo diesel</th>\n",
       "      <td>3160</td>\n",
       "      <td>2</td>\n",
       "    </tr>\n",
       "    <tr>\n",
       "      <th>toyota cressida</th>\n",
       "      <td>2900</td>\n",
       "      <td>3</td>\n",
       "    </tr>\n",
       "    <tr>\n",
       "      <th>datsun 810 maxima</th>\n",
       "      <td>2930</td>\n",
       "      <td>3</td>\n",
       "    </tr>\n",
       "    <tr>\n",
       "      <th>buick century</th>\n",
       "      <td>3415</td>\n",
       "      <td>1</td>\n",
       "    </tr>\n",
       "    <tr>\n",
       "      <th>oldsmobile cutlass ls</th>\n",
       "      <td>3725</td>\n",
       "      <td>1</td>\n",
       "    </tr>\n",
       "    <tr>\n",
       "      <th>ford granada gl</th>\n",
       "      <td>3060</td>\n",
       "      <td>1</td>\n",
       "    </tr>\n",
       "    <tr>\n",
       "      <th>chrysler lebaron salon</th>\n",
       "      <td>3465</td>\n",
       "      <td>1</td>\n",
       "    </tr>\n",
       "    <tr>\n",
       "      <th>chevrolet cavalier</th>\n",
       "      <td>2605</td>\n",
       "      <td>1</td>\n",
       "    </tr>\n",
       "    <tr>\n",
       "      <th>chevrolet cavalier wagon</th>\n",
       "      <td>2640</td>\n",
       "      <td>1</td>\n",
       "    </tr>\n",
       "    <tr>\n",
       "      <th>chevrolet cavalier 2-door</th>\n",
       "      <td>2395</td>\n",
       "      <td>1</td>\n",
       "    </tr>\n",
       "    <tr>\n",
       "      <th>pontiac j2000 se hatchback</th>\n",
       "      <td>2575</td>\n",
       "      <td>1</td>\n",
       "    </tr>\n",
       "    <tr>\n",
       "      <th>dodge aries se</th>\n",
       "      <td>2525</td>\n",
       "      <td>1</td>\n",
       "    </tr>\n",
       "    <tr>\n",
       "      <th>pontiac phoenix</th>\n",
       "      <td>2735</td>\n",
       "      <td>1</td>\n",
       "    </tr>\n",
       "    <tr>\n",
       "      <th>ford fairmont futura</th>\n",
       "      <td>2865</td>\n",
       "      <td>1</td>\n",
       "    </tr>\n",
       "    <tr>\n",
       "      <th>volkswagen rabbit l</th>\n",
       "      <td>1980</td>\n",
       "      <td>2</td>\n",
       "    </tr>\n",
       "    <tr>\n",
       "      <th>mazda glc custom l</th>\n",
       "      <td>2025</td>\n",
       "      <td>3</td>\n",
       "    </tr>\n",
       "    <tr>\n",
       "      <th>mazda glc custom</th>\n",
       "      <td>1970</td>\n",
       "      <td>3</td>\n",
       "    </tr>\n",
       "    <tr>\n",
       "      <th>plymouth horizon miser</th>\n",
       "      <td>2125</td>\n",
       "      <td>1</td>\n",
       "    </tr>\n",
       "    <tr>\n",
       "      <th>mercury lynx l</th>\n",
       "      <td>2125</td>\n",
       "      <td>1</td>\n",
       "    </tr>\n",
       "    <tr>\n",
       "      <th>nissan stanza xe</th>\n",
       "      <td>2160</td>\n",
       "      <td>3</td>\n",
       "    </tr>\n",
       "    <tr>\n",
       "      <th>honda accord</th>\n",
       "      <td>2205</td>\n",
       "      <td>3</td>\n",
       "    </tr>\n",
       "    <tr>\n",
       "      <th>toyota corolla</th>\n",
       "      <td>2245</td>\n",
       "      <td>3</td>\n",
       "    </tr>\n",
       "    <tr>\n",
       "      <th>honda civic</th>\n",
       "      <td>1965</td>\n",
       "      <td>3</td>\n",
       "    </tr>\n",
       "    <tr>\n",
       "      <th>honda civic (auto)</th>\n",
       "      <td>1965</td>\n",
       "      <td>3</td>\n",
       "    </tr>\n",
       "    <tr>\n",
       "      <th>datsun 310 gx</th>\n",
       "      <td>1995</td>\n",
       "      <td>3</td>\n",
       "    </tr>\n",
       "    <tr>\n",
       "      <th>buick century limited</th>\n",
       "      <td>2945</td>\n",
       "      <td>1</td>\n",
       "    </tr>\n",
       "    <tr>\n",
       "      <th>oldsmobile cutlass ciera (diesel)</th>\n",
       "      <td>3015</td>\n",
       "      <td>1</td>\n",
       "    </tr>\n",
       "    <tr>\n",
       "      <th>chrysler lebaron medallion</th>\n",
       "      <td>2585</td>\n",
       "      <td>1</td>\n",
       "    </tr>\n",
       "    <tr>\n",
       "      <th>ford granada l</th>\n",
       "      <td>2835</td>\n",
       "      <td>1</td>\n",
       "    </tr>\n",
       "    <tr>\n",
       "      <th>toyota celica gt</th>\n",
       "      <td>2665</td>\n",
       "      <td>3</td>\n",
       "    </tr>\n",
       "    <tr>\n",
       "      <th>dodge charger 2.2</th>\n",
       "      <td>2370</td>\n",
       "      <td>1</td>\n",
       "    </tr>\n",
       "    <tr>\n",
       "      <th>chevrolet camaro</th>\n",
       "      <td>2950</td>\n",
       "      <td>1</td>\n",
       "    </tr>\n",
       "    <tr>\n",
       "      <th>ford mustang gl</th>\n",
       "      <td>2790</td>\n",
       "      <td>1</td>\n",
       "    </tr>\n",
       "    <tr>\n",
       "      <th>vw pickup</th>\n",
       "      <td>2130</td>\n",
       "      <td>2</td>\n",
       "    </tr>\n",
       "    <tr>\n",
       "      <th>dodge rampage</th>\n",
       "      <td>2295</td>\n",
       "      <td>1</td>\n",
       "    </tr>\n",
       "    <tr>\n",
       "      <th>ford ranger</th>\n",
       "      <td>2625</td>\n",
       "      <td>1</td>\n",
       "    </tr>\n",
       "    <tr>\n",
       "      <th>chevy s-10</th>\n",
       "      <td>2720</td>\n",
       "      <td>1</td>\n",
       "    </tr>\n",
       "  </tbody>\n",
       "</table>\n",
       "</div>"
      ],
      "text/plain": [
       "                                   weight  origin\n",
       "name                                             \n",
       "plymouth reliant                     2490       1\n",
       "buick skylark                        2635       1\n",
       "dodge aries wagon (sw)               2620       1\n",
       "chevrolet citation                   2725       1\n",
       "plymouth reliant                     2385       1\n",
       "toyota starlet                       1755       3\n",
       "plymouth champ                       1875       1\n",
       "honda civic 1300                     1760       3\n",
       "subaru                               2065       3\n",
       "datsun 210 mpg                       1975       3\n",
       "toyota tercel                        2050       3\n",
       "mazda glc 4                          1985       3\n",
       "plymouth horizon 4                   2215       1\n",
       "ford escort 4w                       2045       1\n",
       "ford escort 2h                       2380       1\n",
       "volkswagen jetta                     2190       2\n",
       "honda prelude                        2210       3\n",
       "toyota corolla                       2350       3\n",
       "datsun 200sx                         2615       3\n",
       "mazda 626                            2635       3\n",
       "peugeot 505s turbo diesel            3230       2\n",
       "volvo diesel                         3160       2\n",
       "toyota cressida                      2900       3\n",
       "datsun 810 maxima                    2930       3\n",
       "buick century                        3415       1\n",
       "oldsmobile cutlass ls                3725       1\n",
       "ford granada gl                      3060       1\n",
       "chrysler lebaron salon               3465       1\n",
       "chevrolet cavalier                   2605       1\n",
       "chevrolet cavalier wagon             2640       1\n",
       "chevrolet cavalier 2-door            2395       1\n",
       "pontiac j2000 se hatchback           2575       1\n",
       "dodge aries se                       2525       1\n",
       "pontiac phoenix                      2735       1\n",
       "ford fairmont futura                 2865       1\n",
       "volkswagen rabbit l                  1980       2\n",
       "mazda glc custom l                   2025       3\n",
       "mazda glc custom                     1970       3\n",
       "plymouth horizon miser               2125       1\n",
       "mercury lynx l                       2125       1\n",
       "nissan stanza xe                     2160       3\n",
       "honda accord                         2205       3\n",
       "toyota corolla                       2245       3\n",
       "honda civic                          1965       3\n",
       "honda civic (auto)                   1965       3\n",
       "datsun 310 gx                        1995       3\n",
       "buick century limited                2945       1\n",
       "oldsmobile cutlass ciera (diesel)    3015       1\n",
       "chrysler lebaron medallion           2585       1\n",
       "ford granada l                       2835       1\n",
       "toyota celica gt                     2665       3\n",
       "dodge charger 2.2                    2370       1\n",
       "chevrolet camaro                     2950       1\n",
       "ford mustang gl                      2790       1\n",
       "vw pickup                            2130       2\n",
       "dodge rampage                        2295       1\n",
       "ford ranger                          2625       1\n",
       "chevy s-10                           2720       1"
      ]
     },
     "execution_count": 112,
     "metadata": {},
     "output_type": "execute_result"
    }
   ],
   "source": [
    "# select rows using `lambda` function \n",
    "Auto_re.loc[lambda df: df['year'] > 80, ['weight', 'origin']]"
   ]
  },
  {
   "cell_type": "markdown",
   "id": "310ee2fe-58ca-4f06-a230-3efcf805e271",
   "metadata": {},
   "source": [
    "In summary, a powerful set of operations is available to index the rows and columns of data frames. For integer based queries, use the `iloc[]` method. For string and Boolean\n",
    "selections, use the `loc[]` method. For functional queries that filter rows, use the `loc[]` method\n",
    "with a function (typically a `lambda`) in the rows argument."
   ]
  }
 ],
 "metadata": {
  "kernelspec": {
   "display_name": "Python 3 (ipykernel)",
   "language": "python",
   "name": "python3"
  },
  "language_info": {
   "codemirror_mode": {
    "name": "ipython",
    "version": 3
   },
   "file_extension": ".py",
   "mimetype": "text/x-python",
   "name": "python",
   "nbconvert_exporter": "python",
   "pygments_lexer": "ipython3",
   "version": "3.10.13"
  }
 },
 "nbformat": 4,
 "nbformat_minor": 5
}
