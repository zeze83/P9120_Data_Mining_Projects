{
 "cells": [
  {
   "cell_type": "raw",
   "id": "daa9783a-8a7f-43bc-b96a-30b22aa7554a",
   "metadata": {},
   "source": [
    "# Exericse 1: L2 loss\n",
    "\n",
    "Implement the numpy vectorized version of the L2 loss. There are several way of implementing the L2 loss but you may find the function np.dot() useful. As a reminder, if $x = [x_1, x_2, ..., x_n]$, then `np.dot(x,x)` = $\\sum_{j=1}^n x_j^{2}$. \n",
    "\n",
    "- L2 loss is defined as $$\\begin{align*} & L_2(\\hat{y},y) = \\sum_{i=0}^{m-1}(y^{(i)} - \\hat{y}^{(i)})^2 \\end{align*}\\tag{7}$$"
   ]
  },
  {
   "cell_type": "code",
   "execution_count": 16,
   "id": "47d95bee",
   "metadata": {},
   "outputs": [
    {
     "data": {
      "text/plain": [
       "array([ 0,  1,  2,  3,  4,  5,  6,  7,  8,  9, 10, 11, 12, 13, 14, 15, 16,\n",
       "       17, 18, 19])"
      ]
     },
     "execution_count": 16,
     "metadata": {},
     "output_type": "execute_result"
    }
   ],
   "source": [
    "# NUMPY\n",
    "import numpy as np\n",
    "x=np.array([1,2,3])\n",
    "y=np.array([4,5,6])\n",
    "np.arange(20)"
   ]
  },
  {
   "cell_type": "code",
   "execution_count": 10,
   "id": "0d83f1cd",
   "metadata": {},
   "outputs": [
    {
     "data": {
      "text/plain": [
       "array([[1, 2],\n",
       "       [3, 4]])"
      ]
     },
     "execution_count": 10,
     "metadata": {},
     "output_type": "execute_result"
    }
   ],
   "source": [
    "z=np.array([[1,2],[3,4]])\n",
    "z"
   ]
  },
  {
   "cell_type": "code",
   "execution_count": 21,
   "id": "66e0fc3c",
   "metadata": {},
   "outputs": [
    {
     "data": {
      "text/plain": [
       "dtype('int64')"
      ]
     },
     "execution_count": 21,
     "metadata": {},
     "output_type": "execute_result"
    }
   ],
   "source": [
    "z.ndim\n",
    "z.shape\n",
    "z.dtype"
   ]
  },
  {
   "cell_type": "code",
   "execution_count": 14,
   "id": "61005d06",
   "metadata": {},
   "outputs": [
    {
     "data": {
      "text/plain": [
       "array([0, 0, 0, 0])"
      ]
     },
     "execution_count": 14,
     "metadata": {},
     "output_type": "execute_result"
    }
   ],
   "source": [
    "# operations\n",
    "a=np.array([1,2,3,4])\n",
    "b=np.array([1,2,3,4])\n",
    "a+b\n",
    "a-b"
   ]
  },
  {
   "cell_type": "code",
   "execution_count": 15,
   "id": "bc76cab5",
   "metadata": {},
   "outputs": [
    {
     "data": {
      "text/plain": [
       "10"
      ]
     },
     "execution_count": 15,
     "metadata": {},
     "output_type": "execute_result"
    }
   ],
   "source": [
    "a.sum()"
   ]
  },
  {
   "cell_type": "code",
   "execution_count": 17,
   "id": "bc9bfe10",
   "metadata": {},
   "outputs": [
    {
     "data": {
      "text/plain": [
       "array([[1, 2, 3],\n",
       "       [4, 5, 6]])"
      ]
     },
     "execution_count": 17,
     "metadata": {},
     "output_type": "execute_result"
    }
   ],
   "source": [
    "a=np.array([1,2,3,4,5,6])\n",
    "a.reshape((2,3))"
   ]
  },
  {
   "cell_type": "code",
   "execution_count": 18,
   "id": "42541d87",
   "metadata": {},
   "outputs": [
    {
     "data": {
      "text/plain": [
       "1"
      ]
     },
     "execution_count": 18,
     "metadata": {},
     "output_type": "execute_result"
    }
   ],
   "source": [
    "a.reshape((2,3))[0,0]"
   ]
  },
  {
   "cell_type": "code",
   "execution_count": null,
   "id": "89baa695",
   "metadata": {},
   "outputs": [],
   "source": [
    "a.np.random.normal(size=50)\n",
    "np.mean(a)\n",
    "np.var(a)"
   ]
  },
  {
   "cell_type": "code",
   "execution_count": 26,
   "id": "91b2d26b",
   "metadata": {},
   "outputs": [
    {
     "data": {
      "text/plain": [
       "'lo '"
      ]
     },
     "execution_count": 26,
     "metadata": {},
     "output_type": "execute_result"
    }
   ],
   "source": [
    "# slicing and indexing\n",
    "\"Hello World\"[3:6]"
   ]
  },
  {
   "cell_type": "code",
   "execution_count": 30,
   "id": "6661db0c",
   "metadata": {},
   "outputs": [
    {
     "data": {
      "text/plain": [
       "array([0, 1, 2, 3])"
      ]
     },
     "execution_count": 30,
     "metadata": {},
     "output_type": "execute_result"
    }
   ],
   "source": [
    "# index rows, columns, submatrices\n",
    "A=np.arange(16).reshape((4,4))\n",
    "A[0] # 1st row\n",
    "A[[2,3]]"
   ]
  },
  {
   "cell_type": "code",
   "execution_count": 31,
   "id": "dae07a7a",
   "metadata": {},
   "outputs": [
    {
     "data": {
      "text/plain": [
       "array([[ 0,  2],\n",
       "       [ 4,  6],\n",
       "       [ 8, 10],\n",
       "       [12, 14]])"
      ]
     },
     "execution_count": 31,
     "metadata": {},
     "output_type": "execute_result"
    }
   ],
   "source": [
    "A[:,[0,2]] # all rows with 1st and 3rd columns"
   ]
  },
  {
   "cell_type": "code",
   "execution_count": 45,
   "id": "18db315e",
   "metadata": {},
   "outputs": [
    {
     "data": {
      "text/plain": [
       "array([ 1, 15])"
      ]
     },
     "execution_count": 45,
     "metadata": {},
     "output_type": "execute_result"
    }
   ],
   "source": [
    "# indexing submatrices\n",
    "A[[0,3],[1,3]] # wrong indices"
   ]
  },
  {
   "cell_type": "code",
   "execution_count": 46,
   "id": "f1de9837",
   "metadata": {},
   "outputs": [
    {
     "data": {
      "text/plain": [
       "array([[ 1,  3],\n",
       "       [13, 15]])"
      ]
     },
     "execution_count": 46,
     "metadata": {},
     "output_type": "execute_result"
    }
   ],
   "source": [
    "A[[0,3]][:,[1,3]] # correct symdex"
   ]
  },
  {
   "cell_type": "code",
   "execution_count": 49,
   "id": "39792c1c",
   "metadata": {},
   "outputs": [
    {
     "data": {
      "text/plain": [
       "array([[ 1,  3],\n",
       "       [13, 15]])"
      ]
     },
     "execution_count": 49,
     "metadata": {},
     "output_type": "execute_result"
    }
   ],
   "source": [
    "idx=np.ix_([0,3],[1,3])\n",
    "A[idx] # simpler way"
   ]
  },
  {
   "cell_type": "code",
   "execution_count": 51,
   "id": "cee51337",
   "metadata": {},
   "outputs": [
    {
     "data": {
      "text/plain": [
       "array([[ 4,  6],\n",
       "       [12, 14]])"
      ]
     },
     "execution_count": 51,
     "metadata": {},
     "output_type": "execute_result"
    }
   ],
   "source": [
    "A[1:4:2,0:3:2] # ?"
   ]
  },
  {
   "cell_type": "code",
   "execution_count": 54,
   "id": "64b4f707",
   "metadata": {},
   "outputs": [
    {
     "data": {
      "text/plain": [
       "array([False, False, False, False])"
      ]
     },
     "execution_count": 54,
     "metadata": {},
     "output_type": "execute_result"
    }
   ],
   "source": [
    "# Boolen indexing\n",
    "keep_rows=np.zeros(4,bool)\n",
    "keep_rows"
   ]
  },
  {
   "cell_type": "code",
   "execution_count": 66,
   "id": "df999c32",
   "metadata": {},
   "outputs": [
    {
     "data": {
      "text/plain": [
       "array([False,  True, False,  True])"
      ]
     },
     "execution_count": 66,
     "metadata": {},
     "output_type": "execute_result"
    }
   ],
   "source": [
    "keep_rows[[1,3]] = True\n",
    "keep_rows"
   ]
  },
  {
   "cell_type": "code",
   "execution_count": 57,
   "id": "b93580d6",
   "metadata": {},
   "outputs": [
    {
     "data": {
      "text/plain": [
       "array([[ 4,  6,  7],\n",
       "       [12, 14, 15]])"
      ]
     },
     "execution_count": 57,
     "metadata": {},
     "output_type": "execute_result"
    }
   ],
   "source": [
    "idx_bool=np.ix_(keep_rows,[0,2,3])\n",
    "A[idx_bool]"
   ]
  },
  {
   "cell_type": "code",
   "execution_count": 63,
   "id": "8f00a464",
   "metadata": {},
   "outputs": [],
   "source": [
    "# PANDAS\n",
    "import pandas as pd"
   ]
  },
  {
   "cell_type": "code",
   "execution_count": 72,
   "id": "1a93c1c6",
   "metadata": {},
   "outputs": [],
   "source": [
    "url='https://raw.githubusercontent.com/intro-stat-learning/ISLP_labs/main/Auto.csv'"
   ]
  },
  {
   "cell_type": "code",
   "execution_count": 73,
   "id": "d8d6b3a8",
   "metadata": {},
   "outputs": [],
   "source": [
    "auto=pd.read_csv(url)"
   ]
  },
  {
   "cell_type": "code",
   "execution_count": 74,
   "id": "b648e9b9",
   "metadata": {},
   "outputs": [
    {
     "name": "stdout",
     "output_type": "stream",
     "text": [
      "<class 'pandas.core.frame.DataFrame'>\n",
      "RangeIndex: 392 entries, 0 to 391\n",
      "Data columns (total 9 columns):\n",
      " #   Column        Non-Null Count  Dtype  \n",
      "---  ------        --------------  -----  \n",
      " 0   mpg           392 non-null    float64\n",
      " 1   cylinders     392 non-null    int64  \n",
      " 2   displacement  392 non-null    float64\n",
      " 3   horsepower    392 non-null    int64  \n",
      " 4   weight        392 non-null    int64  \n",
      " 5   acceleration  392 non-null    float64\n",
      " 6   year          392 non-null    int64  \n",
      " 7   origin        392 non-null    int64  \n",
      " 8   name          392 non-null    object \n",
      "dtypes: float64(3), int64(5), object(1)\n",
      "memory usage: 27.7+ KB\n"
     ]
    }
   ],
   "source": [
    "auto.info()"
   ]
  },
  {
   "cell_type": "code",
   "execution_count": 75,
   "id": "2a4a0561",
   "metadata": {},
   "outputs": [
    {
     "ename": "AttributeError",
     "evalue": "'DataFrame' object has no attribute 'stage'",
     "output_type": "error",
     "traceback": [
      "\u001b[0;31m---------------------------------------------------------------------------\u001b[0m",
      "\u001b[0;31mAttributeError\u001b[0m                            Traceback (most recent call last)",
      "Input \u001b[0;32mIn [75]\u001b[0m, in \u001b[0;36m<cell line: 1>\u001b[0;34m()\u001b[0m\n\u001b[0;32m----> 1\u001b[0m \u001b[43mauto\u001b[49m\u001b[38;5;241;43m.\u001b[39;49m\u001b[43mstage\u001b[49m\n",
      "File \u001b[0;32m~/opt/anaconda3/lib/python3.9/site-packages/pandas/core/generic.py:5575\u001b[0m, in \u001b[0;36mNDFrame.__getattr__\u001b[0;34m(self, name)\u001b[0m\n\u001b[1;32m   5568\u001b[0m \u001b[38;5;28;01mif\u001b[39;00m (\n\u001b[1;32m   5569\u001b[0m     name \u001b[38;5;129;01mnot\u001b[39;00m \u001b[38;5;129;01min\u001b[39;00m \u001b[38;5;28mself\u001b[39m\u001b[38;5;241m.\u001b[39m_internal_names_set\n\u001b[1;32m   5570\u001b[0m     \u001b[38;5;129;01mand\u001b[39;00m name \u001b[38;5;129;01mnot\u001b[39;00m \u001b[38;5;129;01min\u001b[39;00m \u001b[38;5;28mself\u001b[39m\u001b[38;5;241m.\u001b[39m_metadata\n\u001b[1;32m   5571\u001b[0m     \u001b[38;5;129;01mand\u001b[39;00m name \u001b[38;5;129;01mnot\u001b[39;00m \u001b[38;5;129;01min\u001b[39;00m \u001b[38;5;28mself\u001b[39m\u001b[38;5;241m.\u001b[39m_accessors\n\u001b[1;32m   5572\u001b[0m     \u001b[38;5;129;01mand\u001b[39;00m \u001b[38;5;28mself\u001b[39m\u001b[38;5;241m.\u001b[39m_info_axis\u001b[38;5;241m.\u001b[39m_can_hold_identifiers_and_holds_name(name)\n\u001b[1;32m   5573\u001b[0m ):\n\u001b[1;32m   5574\u001b[0m     \u001b[38;5;28;01mreturn\u001b[39;00m \u001b[38;5;28mself\u001b[39m[name]\n\u001b[0;32m-> 5575\u001b[0m \u001b[38;5;28;01mreturn\u001b[39;00m \u001b[38;5;28;43mobject\u001b[39;49m\u001b[38;5;241;43m.\u001b[39;49m\u001b[38;5;21;43m__getattribute__\u001b[39;49m\u001b[43m(\u001b[49m\u001b[38;5;28;43mself\u001b[39;49m\u001b[43m,\u001b[49m\u001b[43m \u001b[49m\u001b[43mname\u001b[49m\u001b[43m)\u001b[49m\n",
      "\u001b[0;31mAttributeError\u001b[0m: 'DataFrame' object has no attribute 'stage'"
     ]
    }
   ],
   "source": [
    "auto.stage"
   ]
  },
  {
   "cell_type": "code",
   "execution_count": 77,
   "id": "25fcbe71",
   "metadata": {},
   "outputs": [
    {
     "data": {
      "text/html": [
       "<div>\n",
       "<style scoped>\n",
       "    .dataframe tbody tr th:only-of-type {\n",
       "        vertical-align: middle;\n",
       "    }\n",
       "\n",
       "    .dataframe tbody tr th {\n",
       "        vertical-align: top;\n",
       "    }\n",
       "\n",
       "    .dataframe thead th {\n",
       "        text-align: right;\n",
       "    }\n",
       "</style>\n",
       "<table border=\"1\" class=\"dataframe\">\n",
       "  <thead>\n",
       "    <tr style=\"text-align: right;\">\n",
       "      <th></th>\n",
       "      <th>mpg</th>\n",
       "      <th>cylinders</th>\n",
       "      <th>displacement</th>\n",
       "      <th>horsepower</th>\n",
       "      <th>weight</th>\n",
       "      <th>acceleration</th>\n",
       "      <th>year</th>\n",
       "      <th>origin</th>\n",
       "      <th>name</th>\n",
       "    </tr>\n",
       "  </thead>\n",
       "  <tbody>\n",
       "    <tr>\n",
       "      <th>0</th>\n",
       "      <td>18.0</td>\n",
       "      <td>8</td>\n",
       "      <td>307.0</td>\n",
       "      <td>130</td>\n",
       "      <td>3504</td>\n",
       "      <td>12.0</td>\n",
       "      <td>70</td>\n",
       "      <td>1</td>\n",
       "      <td>chevrolet chevelle malibu</td>\n",
       "    </tr>\n",
       "    <tr>\n",
       "      <th>1</th>\n",
       "      <td>15.0</td>\n",
       "      <td>8</td>\n",
       "      <td>350.0</td>\n",
       "      <td>165</td>\n",
       "      <td>3693</td>\n",
       "      <td>11.5</td>\n",
       "      <td>70</td>\n",
       "      <td>1</td>\n",
       "      <td>buick skylark 320</td>\n",
       "    </tr>\n",
       "    <tr>\n",
       "      <th>2</th>\n",
       "      <td>18.0</td>\n",
       "      <td>8</td>\n",
       "      <td>318.0</td>\n",
       "      <td>150</td>\n",
       "      <td>3436</td>\n",
       "      <td>11.0</td>\n",
       "      <td>70</td>\n",
       "      <td>1</td>\n",
       "      <td>plymouth satellite</td>\n",
       "    </tr>\n",
       "  </tbody>\n",
       "</table>\n",
       "</div>"
      ],
      "text/plain": [
       "    mpg  cylinders  displacement  horsepower  weight  acceleration  year  \\\n",
       "0  18.0          8         307.0         130    3504          12.0    70   \n",
       "1  15.0          8         350.0         165    3693          11.5    70   \n",
       "2  18.0          8         318.0         150    3436          11.0    70   \n",
       "\n",
       "   origin                       name  \n",
       "0       1  chevrolet chevelle malibu  \n",
       "1       1          buick skylark 320  \n",
       "2       1         plymouth satellite  "
      ]
     },
     "execution_count": 77,
     "metadata": {},
     "output_type": "execute_result"
    }
   ],
   "source": [
    "# selection\n",
    "auto[:3]"
   ]
  },
  {
   "cell_type": "code",
   "execution_count": 78,
   "id": "6dd708d9",
   "metadata": {},
   "outputs": [
    {
     "data": {
      "text/html": [
       "<div>\n",
       "<style scoped>\n",
       "    .dataframe tbody tr th:only-of-type {\n",
       "        vertical-align: middle;\n",
       "    }\n",
       "\n",
       "    .dataframe tbody tr th {\n",
       "        vertical-align: top;\n",
       "    }\n",
       "\n",
       "    .dataframe thead th {\n",
       "        text-align: right;\n",
       "    }\n",
       "</style>\n",
       "<table border=\"1\" class=\"dataframe\">\n",
       "  <thead>\n",
       "    <tr style=\"text-align: right;\">\n",
       "      <th></th>\n",
       "      <th>mpg</th>\n",
       "      <th>cylinders</th>\n",
       "      <th>displacement</th>\n",
       "      <th>horsepower</th>\n",
       "      <th>weight</th>\n",
       "      <th>acceleration</th>\n",
       "      <th>year</th>\n",
       "      <th>origin</th>\n",
       "      <th>name</th>\n",
       "    </tr>\n",
       "  </thead>\n",
       "  <tbody>\n",
       "    <tr>\n",
       "      <th>334</th>\n",
       "      <td>27.2</td>\n",
       "      <td>4</td>\n",
       "      <td>135.0</td>\n",
       "      <td>84</td>\n",
       "      <td>2490</td>\n",
       "      <td>15.7</td>\n",
       "      <td>81</td>\n",
       "      <td>1</td>\n",
       "      <td>plymouth reliant</td>\n",
       "    </tr>\n",
       "    <tr>\n",
       "      <th>335</th>\n",
       "      <td>26.6</td>\n",
       "      <td>4</td>\n",
       "      <td>151.0</td>\n",
       "      <td>84</td>\n",
       "      <td>2635</td>\n",
       "      <td>16.4</td>\n",
       "      <td>81</td>\n",
       "      <td>1</td>\n",
       "      <td>buick skylark</td>\n",
       "    </tr>\n",
       "    <tr>\n",
       "      <th>336</th>\n",
       "      <td>25.8</td>\n",
       "      <td>4</td>\n",
       "      <td>156.0</td>\n",
       "      <td>92</td>\n",
       "      <td>2620</td>\n",
       "      <td>14.4</td>\n",
       "      <td>81</td>\n",
       "      <td>1</td>\n",
       "      <td>dodge aries wagon (sw)</td>\n",
       "    </tr>\n",
       "    <tr>\n",
       "      <th>337</th>\n",
       "      <td>23.5</td>\n",
       "      <td>6</td>\n",
       "      <td>173.0</td>\n",
       "      <td>110</td>\n",
       "      <td>2725</td>\n",
       "      <td>12.6</td>\n",
       "      <td>81</td>\n",
       "      <td>1</td>\n",
       "      <td>chevrolet citation</td>\n",
       "    </tr>\n",
       "    <tr>\n",
       "      <th>338</th>\n",
       "      <td>30.0</td>\n",
       "      <td>4</td>\n",
       "      <td>135.0</td>\n",
       "      <td>84</td>\n",
       "      <td>2385</td>\n",
       "      <td>12.9</td>\n",
       "      <td>81</td>\n",
       "      <td>1</td>\n",
       "      <td>plymouth reliant</td>\n",
       "    </tr>\n",
       "    <tr>\n",
       "      <th>339</th>\n",
       "      <td>39.1</td>\n",
       "      <td>4</td>\n",
       "      <td>79.0</td>\n",
       "      <td>58</td>\n",
       "      <td>1755</td>\n",
       "      <td>16.9</td>\n",
       "      <td>81</td>\n",
       "      <td>3</td>\n",
       "      <td>toyota starlet</td>\n",
       "    </tr>\n",
       "    <tr>\n",
       "      <th>340</th>\n",
       "      <td>39.0</td>\n",
       "      <td>4</td>\n",
       "      <td>86.0</td>\n",
       "      <td>64</td>\n",
       "      <td>1875</td>\n",
       "      <td>16.4</td>\n",
       "      <td>81</td>\n",
       "      <td>1</td>\n",
       "      <td>plymouth champ</td>\n",
       "    </tr>\n",
       "    <tr>\n",
       "      <th>341</th>\n",
       "      <td>35.1</td>\n",
       "      <td>4</td>\n",
       "      <td>81.0</td>\n",
       "      <td>60</td>\n",
       "      <td>1760</td>\n",
       "      <td>16.1</td>\n",
       "      <td>81</td>\n",
       "      <td>3</td>\n",
       "      <td>honda civic 1300</td>\n",
       "    </tr>\n",
       "    <tr>\n",
       "      <th>342</th>\n",
       "      <td>32.3</td>\n",
       "      <td>4</td>\n",
       "      <td>97.0</td>\n",
       "      <td>67</td>\n",
       "      <td>2065</td>\n",
       "      <td>17.8</td>\n",
       "      <td>81</td>\n",
       "      <td>3</td>\n",
       "      <td>subaru</td>\n",
       "    </tr>\n",
       "    <tr>\n",
       "      <th>343</th>\n",
       "      <td>37.0</td>\n",
       "      <td>4</td>\n",
       "      <td>85.0</td>\n",
       "      <td>65</td>\n",
       "      <td>1975</td>\n",
       "      <td>19.4</td>\n",
       "      <td>81</td>\n",
       "      <td>3</td>\n",
       "      <td>datsun 210 mpg</td>\n",
       "    </tr>\n",
       "    <tr>\n",
       "      <th>344</th>\n",
       "      <td>37.7</td>\n",
       "      <td>4</td>\n",
       "      <td>89.0</td>\n",
       "      <td>62</td>\n",
       "      <td>2050</td>\n",
       "      <td>17.3</td>\n",
       "      <td>81</td>\n",
       "      <td>3</td>\n",
       "      <td>toyota tercel</td>\n",
       "    </tr>\n",
       "    <tr>\n",
       "      <th>345</th>\n",
       "      <td>34.1</td>\n",
       "      <td>4</td>\n",
       "      <td>91.0</td>\n",
       "      <td>68</td>\n",
       "      <td>1985</td>\n",
       "      <td>16.0</td>\n",
       "      <td>81</td>\n",
       "      <td>3</td>\n",
       "      <td>mazda glc 4</td>\n",
       "    </tr>\n",
       "    <tr>\n",
       "      <th>346</th>\n",
       "      <td>34.7</td>\n",
       "      <td>4</td>\n",
       "      <td>105.0</td>\n",
       "      <td>63</td>\n",
       "      <td>2215</td>\n",
       "      <td>14.9</td>\n",
       "      <td>81</td>\n",
       "      <td>1</td>\n",
       "      <td>plymouth horizon 4</td>\n",
       "    </tr>\n",
       "    <tr>\n",
       "      <th>347</th>\n",
       "      <td>34.4</td>\n",
       "      <td>4</td>\n",
       "      <td>98.0</td>\n",
       "      <td>65</td>\n",
       "      <td>2045</td>\n",
       "      <td>16.2</td>\n",
       "      <td>81</td>\n",
       "      <td>1</td>\n",
       "      <td>ford escort 4w</td>\n",
       "    </tr>\n",
       "    <tr>\n",
       "      <th>348</th>\n",
       "      <td>29.9</td>\n",
       "      <td>4</td>\n",
       "      <td>98.0</td>\n",
       "      <td>65</td>\n",
       "      <td>2380</td>\n",
       "      <td>20.7</td>\n",
       "      <td>81</td>\n",
       "      <td>1</td>\n",
       "      <td>ford escort 2h</td>\n",
       "    </tr>\n",
       "    <tr>\n",
       "      <th>349</th>\n",
       "      <td>33.0</td>\n",
       "      <td>4</td>\n",
       "      <td>105.0</td>\n",
       "      <td>74</td>\n",
       "      <td>2190</td>\n",
       "      <td>14.2</td>\n",
       "      <td>81</td>\n",
       "      <td>2</td>\n",
       "      <td>volkswagen jetta</td>\n",
       "    </tr>\n",
       "    <tr>\n",
       "      <th>350</th>\n",
       "      <td>33.7</td>\n",
       "      <td>4</td>\n",
       "      <td>107.0</td>\n",
       "      <td>75</td>\n",
       "      <td>2210</td>\n",
       "      <td>14.4</td>\n",
       "      <td>81</td>\n",
       "      <td>3</td>\n",
       "      <td>honda prelude</td>\n",
       "    </tr>\n",
       "    <tr>\n",
       "      <th>351</th>\n",
       "      <td>32.4</td>\n",
       "      <td>4</td>\n",
       "      <td>108.0</td>\n",
       "      <td>75</td>\n",
       "      <td>2350</td>\n",
       "      <td>16.8</td>\n",
       "      <td>81</td>\n",
       "      <td>3</td>\n",
       "      <td>toyota corolla</td>\n",
       "    </tr>\n",
       "    <tr>\n",
       "      <th>352</th>\n",
       "      <td>32.9</td>\n",
       "      <td>4</td>\n",
       "      <td>119.0</td>\n",
       "      <td>100</td>\n",
       "      <td>2615</td>\n",
       "      <td>14.8</td>\n",
       "      <td>81</td>\n",
       "      <td>3</td>\n",
       "      <td>datsun 200sx</td>\n",
       "    </tr>\n",
       "    <tr>\n",
       "      <th>353</th>\n",
       "      <td>31.6</td>\n",
       "      <td>4</td>\n",
       "      <td>120.0</td>\n",
       "      <td>74</td>\n",
       "      <td>2635</td>\n",
       "      <td>18.3</td>\n",
       "      <td>81</td>\n",
       "      <td>3</td>\n",
       "      <td>mazda 626</td>\n",
       "    </tr>\n",
       "    <tr>\n",
       "      <th>354</th>\n",
       "      <td>28.1</td>\n",
       "      <td>4</td>\n",
       "      <td>141.0</td>\n",
       "      <td>80</td>\n",
       "      <td>3230</td>\n",
       "      <td>20.4</td>\n",
       "      <td>81</td>\n",
       "      <td>2</td>\n",
       "      <td>peugeot 505s turbo diesel</td>\n",
       "    </tr>\n",
       "    <tr>\n",
       "      <th>355</th>\n",
       "      <td>30.7</td>\n",
       "      <td>6</td>\n",
       "      <td>145.0</td>\n",
       "      <td>76</td>\n",
       "      <td>3160</td>\n",
       "      <td>19.6</td>\n",
       "      <td>81</td>\n",
       "      <td>2</td>\n",
       "      <td>volvo diesel</td>\n",
       "    </tr>\n",
       "    <tr>\n",
       "      <th>356</th>\n",
       "      <td>25.4</td>\n",
       "      <td>6</td>\n",
       "      <td>168.0</td>\n",
       "      <td>116</td>\n",
       "      <td>2900</td>\n",
       "      <td>12.6</td>\n",
       "      <td>81</td>\n",
       "      <td>3</td>\n",
       "      <td>toyota cressida</td>\n",
       "    </tr>\n",
       "    <tr>\n",
       "      <th>357</th>\n",
       "      <td>24.2</td>\n",
       "      <td>6</td>\n",
       "      <td>146.0</td>\n",
       "      <td>120</td>\n",
       "      <td>2930</td>\n",
       "      <td>13.8</td>\n",
       "      <td>81</td>\n",
       "      <td>3</td>\n",
       "      <td>datsun 810 maxima</td>\n",
       "    </tr>\n",
       "    <tr>\n",
       "      <th>358</th>\n",
       "      <td>22.4</td>\n",
       "      <td>6</td>\n",
       "      <td>231.0</td>\n",
       "      <td>110</td>\n",
       "      <td>3415</td>\n",
       "      <td>15.8</td>\n",
       "      <td>81</td>\n",
       "      <td>1</td>\n",
       "      <td>buick century</td>\n",
       "    </tr>\n",
       "    <tr>\n",
       "      <th>359</th>\n",
       "      <td>26.6</td>\n",
       "      <td>8</td>\n",
       "      <td>350.0</td>\n",
       "      <td>105</td>\n",
       "      <td>3725</td>\n",
       "      <td>19.0</td>\n",
       "      <td>81</td>\n",
       "      <td>1</td>\n",
       "      <td>oldsmobile cutlass ls</td>\n",
       "    </tr>\n",
       "    <tr>\n",
       "      <th>360</th>\n",
       "      <td>20.2</td>\n",
       "      <td>6</td>\n",
       "      <td>200.0</td>\n",
       "      <td>88</td>\n",
       "      <td>3060</td>\n",
       "      <td>17.1</td>\n",
       "      <td>81</td>\n",
       "      <td>1</td>\n",
       "      <td>ford granada gl</td>\n",
       "    </tr>\n",
       "    <tr>\n",
       "      <th>361</th>\n",
       "      <td>17.6</td>\n",
       "      <td>6</td>\n",
       "      <td>225.0</td>\n",
       "      <td>85</td>\n",
       "      <td>3465</td>\n",
       "      <td>16.6</td>\n",
       "      <td>81</td>\n",
       "      <td>1</td>\n",
       "      <td>chrysler lebaron salon</td>\n",
       "    </tr>\n",
       "    <tr>\n",
       "      <th>362</th>\n",
       "      <td>28.0</td>\n",
       "      <td>4</td>\n",
       "      <td>112.0</td>\n",
       "      <td>88</td>\n",
       "      <td>2605</td>\n",
       "      <td>19.6</td>\n",
       "      <td>82</td>\n",
       "      <td>1</td>\n",
       "      <td>chevrolet cavalier</td>\n",
       "    </tr>\n",
       "    <tr>\n",
       "      <th>363</th>\n",
       "      <td>27.0</td>\n",
       "      <td>4</td>\n",
       "      <td>112.0</td>\n",
       "      <td>88</td>\n",
       "      <td>2640</td>\n",
       "      <td>18.6</td>\n",
       "      <td>82</td>\n",
       "      <td>1</td>\n",
       "      <td>chevrolet cavalier wagon</td>\n",
       "    </tr>\n",
       "    <tr>\n",
       "      <th>364</th>\n",
       "      <td>34.0</td>\n",
       "      <td>4</td>\n",
       "      <td>112.0</td>\n",
       "      <td>88</td>\n",
       "      <td>2395</td>\n",
       "      <td>18.0</td>\n",
       "      <td>82</td>\n",
       "      <td>1</td>\n",
       "      <td>chevrolet cavalier 2-door</td>\n",
       "    </tr>\n",
       "    <tr>\n",
       "      <th>365</th>\n",
       "      <td>31.0</td>\n",
       "      <td>4</td>\n",
       "      <td>112.0</td>\n",
       "      <td>85</td>\n",
       "      <td>2575</td>\n",
       "      <td>16.2</td>\n",
       "      <td>82</td>\n",
       "      <td>1</td>\n",
       "      <td>pontiac j2000 se hatchback</td>\n",
       "    </tr>\n",
       "    <tr>\n",
       "      <th>366</th>\n",
       "      <td>29.0</td>\n",
       "      <td>4</td>\n",
       "      <td>135.0</td>\n",
       "      <td>84</td>\n",
       "      <td>2525</td>\n",
       "      <td>16.0</td>\n",
       "      <td>82</td>\n",
       "      <td>1</td>\n",
       "      <td>dodge aries se</td>\n",
       "    </tr>\n",
       "    <tr>\n",
       "      <th>367</th>\n",
       "      <td>27.0</td>\n",
       "      <td>4</td>\n",
       "      <td>151.0</td>\n",
       "      <td>90</td>\n",
       "      <td>2735</td>\n",
       "      <td>18.0</td>\n",
       "      <td>82</td>\n",
       "      <td>1</td>\n",
       "      <td>pontiac phoenix</td>\n",
       "    </tr>\n",
       "    <tr>\n",
       "      <th>368</th>\n",
       "      <td>24.0</td>\n",
       "      <td>4</td>\n",
       "      <td>140.0</td>\n",
       "      <td>92</td>\n",
       "      <td>2865</td>\n",
       "      <td>16.4</td>\n",
       "      <td>82</td>\n",
       "      <td>1</td>\n",
       "      <td>ford fairmont futura</td>\n",
       "    </tr>\n",
       "    <tr>\n",
       "      <th>369</th>\n",
       "      <td>36.0</td>\n",
       "      <td>4</td>\n",
       "      <td>105.0</td>\n",
       "      <td>74</td>\n",
       "      <td>1980</td>\n",
       "      <td>15.3</td>\n",
       "      <td>82</td>\n",
       "      <td>2</td>\n",
       "      <td>volkswagen rabbit l</td>\n",
       "    </tr>\n",
       "    <tr>\n",
       "      <th>370</th>\n",
       "      <td>37.0</td>\n",
       "      <td>4</td>\n",
       "      <td>91.0</td>\n",
       "      <td>68</td>\n",
       "      <td>2025</td>\n",
       "      <td>18.2</td>\n",
       "      <td>82</td>\n",
       "      <td>3</td>\n",
       "      <td>mazda glc custom l</td>\n",
       "    </tr>\n",
       "    <tr>\n",
       "      <th>371</th>\n",
       "      <td>31.0</td>\n",
       "      <td>4</td>\n",
       "      <td>91.0</td>\n",
       "      <td>68</td>\n",
       "      <td>1970</td>\n",
       "      <td>17.6</td>\n",
       "      <td>82</td>\n",
       "      <td>3</td>\n",
       "      <td>mazda glc custom</td>\n",
       "    </tr>\n",
       "    <tr>\n",
       "      <th>372</th>\n",
       "      <td>38.0</td>\n",
       "      <td>4</td>\n",
       "      <td>105.0</td>\n",
       "      <td>63</td>\n",
       "      <td>2125</td>\n",
       "      <td>14.7</td>\n",
       "      <td>82</td>\n",
       "      <td>1</td>\n",
       "      <td>plymouth horizon miser</td>\n",
       "    </tr>\n",
       "    <tr>\n",
       "      <th>373</th>\n",
       "      <td>36.0</td>\n",
       "      <td>4</td>\n",
       "      <td>98.0</td>\n",
       "      <td>70</td>\n",
       "      <td>2125</td>\n",
       "      <td>17.3</td>\n",
       "      <td>82</td>\n",
       "      <td>1</td>\n",
       "      <td>mercury lynx l</td>\n",
       "    </tr>\n",
       "    <tr>\n",
       "      <th>374</th>\n",
       "      <td>36.0</td>\n",
       "      <td>4</td>\n",
       "      <td>120.0</td>\n",
       "      <td>88</td>\n",
       "      <td>2160</td>\n",
       "      <td>14.5</td>\n",
       "      <td>82</td>\n",
       "      <td>3</td>\n",
       "      <td>nissan stanza xe</td>\n",
       "    </tr>\n",
       "    <tr>\n",
       "      <th>375</th>\n",
       "      <td>36.0</td>\n",
       "      <td>4</td>\n",
       "      <td>107.0</td>\n",
       "      <td>75</td>\n",
       "      <td>2205</td>\n",
       "      <td>14.5</td>\n",
       "      <td>82</td>\n",
       "      <td>3</td>\n",
       "      <td>honda accord</td>\n",
       "    </tr>\n",
       "    <tr>\n",
       "      <th>376</th>\n",
       "      <td>34.0</td>\n",
       "      <td>4</td>\n",
       "      <td>108.0</td>\n",
       "      <td>70</td>\n",
       "      <td>2245</td>\n",
       "      <td>16.9</td>\n",
       "      <td>82</td>\n",
       "      <td>3</td>\n",
       "      <td>toyota corolla</td>\n",
       "    </tr>\n",
       "    <tr>\n",
       "      <th>377</th>\n",
       "      <td>38.0</td>\n",
       "      <td>4</td>\n",
       "      <td>91.0</td>\n",
       "      <td>67</td>\n",
       "      <td>1965</td>\n",
       "      <td>15.0</td>\n",
       "      <td>82</td>\n",
       "      <td>3</td>\n",
       "      <td>honda civic</td>\n",
       "    </tr>\n",
       "    <tr>\n",
       "      <th>378</th>\n",
       "      <td>32.0</td>\n",
       "      <td>4</td>\n",
       "      <td>91.0</td>\n",
       "      <td>67</td>\n",
       "      <td>1965</td>\n",
       "      <td>15.7</td>\n",
       "      <td>82</td>\n",
       "      <td>3</td>\n",
       "      <td>honda civic (auto)</td>\n",
       "    </tr>\n",
       "    <tr>\n",
       "      <th>379</th>\n",
       "      <td>38.0</td>\n",
       "      <td>4</td>\n",
       "      <td>91.0</td>\n",
       "      <td>67</td>\n",
       "      <td>1995</td>\n",
       "      <td>16.2</td>\n",
       "      <td>82</td>\n",
       "      <td>3</td>\n",
       "      <td>datsun 310 gx</td>\n",
       "    </tr>\n",
       "    <tr>\n",
       "      <th>380</th>\n",
       "      <td>25.0</td>\n",
       "      <td>6</td>\n",
       "      <td>181.0</td>\n",
       "      <td>110</td>\n",
       "      <td>2945</td>\n",
       "      <td>16.4</td>\n",
       "      <td>82</td>\n",
       "      <td>1</td>\n",
       "      <td>buick century limited</td>\n",
       "    </tr>\n",
       "    <tr>\n",
       "      <th>381</th>\n",
       "      <td>38.0</td>\n",
       "      <td>6</td>\n",
       "      <td>262.0</td>\n",
       "      <td>85</td>\n",
       "      <td>3015</td>\n",
       "      <td>17.0</td>\n",
       "      <td>82</td>\n",
       "      <td>1</td>\n",
       "      <td>oldsmobile cutlass ciera (diesel)</td>\n",
       "    </tr>\n",
       "    <tr>\n",
       "      <th>382</th>\n",
       "      <td>26.0</td>\n",
       "      <td>4</td>\n",
       "      <td>156.0</td>\n",
       "      <td>92</td>\n",
       "      <td>2585</td>\n",
       "      <td>14.5</td>\n",
       "      <td>82</td>\n",
       "      <td>1</td>\n",
       "      <td>chrysler lebaron medallion</td>\n",
       "    </tr>\n",
       "    <tr>\n",
       "      <th>383</th>\n",
       "      <td>22.0</td>\n",
       "      <td>6</td>\n",
       "      <td>232.0</td>\n",
       "      <td>112</td>\n",
       "      <td>2835</td>\n",
       "      <td>14.7</td>\n",
       "      <td>82</td>\n",
       "      <td>1</td>\n",
       "      <td>ford granada l</td>\n",
       "    </tr>\n",
       "    <tr>\n",
       "      <th>384</th>\n",
       "      <td>32.0</td>\n",
       "      <td>4</td>\n",
       "      <td>144.0</td>\n",
       "      <td>96</td>\n",
       "      <td>2665</td>\n",
       "      <td>13.9</td>\n",
       "      <td>82</td>\n",
       "      <td>3</td>\n",
       "      <td>toyota celica gt</td>\n",
       "    </tr>\n",
       "    <tr>\n",
       "      <th>385</th>\n",
       "      <td>36.0</td>\n",
       "      <td>4</td>\n",
       "      <td>135.0</td>\n",
       "      <td>84</td>\n",
       "      <td>2370</td>\n",
       "      <td>13.0</td>\n",
       "      <td>82</td>\n",
       "      <td>1</td>\n",
       "      <td>dodge charger 2.2</td>\n",
       "    </tr>\n",
       "    <tr>\n",
       "      <th>386</th>\n",
       "      <td>27.0</td>\n",
       "      <td>4</td>\n",
       "      <td>151.0</td>\n",
       "      <td>90</td>\n",
       "      <td>2950</td>\n",
       "      <td>17.3</td>\n",
       "      <td>82</td>\n",
       "      <td>1</td>\n",
       "      <td>chevrolet camaro</td>\n",
       "    </tr>\n",
       "    <tr>\n",
       "      <th>387</th>\n",
       "      <td>27.0</td>\n",
       "      <td>4</td>\n",
       "      <td>140.0</td>\n",
       "      <td>86</td>\n",
       "      <td>2790</td>\n",
       "      <td>15.6</td>\n",
       "      <td>82</td>\n",
       "      <td>1</td>\n",
       "      <td>ford mustang gl</td>\n",
       "    </tr>\n",
       "    <tr>\n",
       "      <th>388</th>\n",
       "      <td>44.0</td>\n",
       "      <td>4</td>\n",
       "      <td>97.0</td>\n",
       "      <td>52</td>\n",
       "      <td>2130</td>\n",
       "      <td>24.6</td>\n",
       "      <td>82</td>\n",
       "      <td>2</td>\n",
       "      <td>vw pickup</td>\n",
       "    </tr>\n",
       "    <tr>\n",
       "      <th>389</th>\n",
       "      <td>32.0</td>\n",
       "      <td>4</td>\n",
       "      <td>135.0</td>\n",
       "      <td>84</td>\n",
       "      <td>2295</td>\n",
       "      <td>11.6</td>\n",
       "      <td>82</td>\n",
       "      <td>1</td>\n",
       "      <td>dodge rampage</td>\n",
       "    </tr>\n",
       "    <tr>\n",
       "      <th>390</th>\n",
       "      <td>28.0</td>\n",
       "      <td>4</td>\n",
       "      <td>120.0</td>\n",
       "      <td>79</td>\n",
       "      <td>2625</td>\n",
       "      <td>18.6</td>\n",
       "      <td>82</td>\n",
       "      <td>1</td>\n",
       "      <td>ford ranger</td>\n",
       "    </tr>\n",
       "    <tr>\n",
       "      <th>391</th>\n",
       "      <td>31.0</td>\n",
       "      <td>4</td>\n",
       "      <td>119.0</td>\n",
       "      <td>82</td>\n",
       "      <td>2720</td>\n",
       "      <td>19.4</td>\n",
       "      <td>82</td>\n",
       "      <td>1</td>\n",
       "      <td>chevy s-10</td>\n",
       "    </tr>\n",
       "  </tbody>\n",
       "</table>\n",
       "</div>"
      ],
      "text/plain": [
       "      mpg  cylinders  displacement  horsepower  weight  acceleration  year  \\\n",
       "334  27.2          4         135.0          84    2490          15.7    81   \n",
       "335  26.6          4         151.0          84    2635          16.4    81   \n",
       "336  25.8          4         156.0          92    2620          14.4    81   \n",
       "337  23.5          6         173.0         110    2725          12.6    81   \n",
       "338  30.0          4         135.0          84    2385          12.9    81   \n",
       "339  39.1          4          79.0          58    1755          16.9    81   \n",
       "340  39.0          4          86.0          64    1875          16.4    81   \n",
       "341  35.1          4          81.0          60    1760          16.1    81   \n",
       "342  32.3          4          97.0          67    2065          17.8    81   \n",
       "343  37.0          4          85.0          65    1975          19.4    81   \n",
       "344  37.7          4          89.0          62    2050          17.3    81   \n",
       "345  34.1          4          91.0          68    1985          16.0    81   \n",
       "346  34.7          4         105.0          63    2215          14.9    81   \n",
       "347  34.4          4          98.0          65    2045          16.2    81   \n",
       "348  29.9          4          98.0          65    2380          20.7    81   \n",
       "349  33.0          4         105.0          74    2190          14.2    81   \n",
       "350  33.7          4         107.0          75    2210          14.4    81   \n",
       "351  32.4          4         108.0          75    2350          16.8    81   \n",
       "352  32.9          4         119.0         100    2615          14.8    81   \n",
       "353  31.6          4         120.0          74    2635          18.3    81   \n",
       "354  28.1          4         141.0          80    3230          20.4    81   \n",
       "355  30.7          6         145.0          76    3160          19.6    81   \n",
       "356  25.4          6         168.0         116    2900          12.6    81   \n",
       "357  24.2          6         146.0         120    2930          13.8    81   \n",
       "358  22.4          6         231.0         110    3415          15.8    81   \n",
       "359  26.6          8         350.0         105    3725          19.0    81   \n",
       "360  20.2          6         200.0          88    3060          17.1    81   \n",
       "361  17.6          6         225.0          85    3465          16.6    81   \n",
       "362  28.0          4         112.0          88    2605          19.6    82   \n",
       "363  27.0          4         112.0          88    2640          18.6    82   \n",
       "364  34.0          4         112.0          88    2395          18.0    82   \n",
       "365  31.0          4         112.0          85    2575          16.2    82   \n",
       "366  29.0          4         135.0          84    2525          16.0    82   \n",
       "367  27.0          4         151.0          90    2735          18.0    82   \n",
       "368  24.0          4         140.0          92    2865          16.4    82   \n",
       "369  36.0          4         105.0          74    1980          15.3    82   \n",
       "370  37.0          4          91.0          68    2025          18.2    82   \n",
       "371  31.0          4          91.0          68    1970          17.6    82   \n",
       "372  38.0          4         105.0          63    2125          14.7    82   \n",
       "373  36.0          4          98.0          70    2125          17.3    82   \n",
       "374  36.0          4         120.0          88    2160          14.5    82   \n",
       "375  36.0          4         107.0          75    2205          14.5    82   \n",
       "376  34.0          4         108.0          70    2245          16.9    82   \n",
       "377  38.0          4          91.0          67    1965          15.0    82   \n",
       "378  32.0          4          91.0          67    1965          15.7    82   \n",
       "379  38.0          4          91.0          67    1995          16.2    82   \n",
       "380  25.0          6         181.0         110    2945          16.4    82   \n",
       "381  38.0          6         262.0          85    3015          17.0    82   \n",
       "382  26.0          4         156.0          92    2585          14.5    82   \n",
       "383  22.0          6         232.0         112    2835          14.7    82   \n",
       "384  32.0          4         144.0          96    2665          13.9    82   \n",
       "385  36.0          4         135.0          84    2370          13.0    82   \n",
       "386  27.0          4         151.0          90    2950          17.3    82   \n",
       "387  27.0          4         140.0          86    2790          15.6    82   \n",
       "388  44.0          4          97.0          52    2130          24.6    82   \n",
       "389  32.0          4         135.0          84    2295          11.6    82   \n",
       "390  28.0          4         120.0          79    2625          18.6    82   \n",
       "391  31.0          4         119.0          82    2720          19.4    82   \n",
       "\n",
       "     origin                               name  \n",
       "334       1                   plymouth reliant  \n",
       "335       1                      buick skylark  \n",
       "336       1             dodge aries wagon (sw)  \n",
       "337       1                 chevrolet citation  \n",
       "338       1                   plymouth reliant  \n",
       "339       3                     toyota starlet  \n",
       "340       1                     plymouth champ  \n",
       "341       3                   honda civic 1300  \n",
       "342       3                             subaru  \n",
       "343       3                     datsun 210 mpg  \n",
       "344       3                      toyota tercel  \n",
       "345       3                        mazda glc 4  \n",
       "346       1                 plymouth horizon 4  \n",
       "347       1                     ford escort 4w  \n",
       "348       1                     ford escort 2h  \n",
       "349       2                   volkswagen jetta  \n",
       "350       3                      honda prelude  \n",
       "351       3                     toyota corolla  \n",
       "352       3                       datsun 200sx  \n",
       "353       3                          mazda 626  \n",
       "354       2          peugeot 505s turbo diesel  \n",
       "355       2                       volvo diesel  \n",
       "356       3                    toyota cressida  \n",
       "357       3                  datsun 810 maxima  \n",
       "358       1                      buick century  \n",
       "359       1              oldsmobile cutlass ls  \n",
       "360       1                    ford granada gl  \n",
       "361       1             chrysler lebaron salon  \n",
       "362       1                 chevrolet cavalier  \n",
       "363       1           chevrolet cavalier wagon  \n",
       "364       1          chevrolet cavalier 2-door  \n",
       "365       1         pontiac j2000 se hatchback  \n",
       "366       1                     dodge aries se  \n",
       "367       1                    pontiac phoenix  \n",
       "368       1               ford fairmont futura  \n",
       "369       2                volkswagen rabbit l  \n",
       "370       3                 mazda glc custom l  \n",
       "371       3                   mazda glc custom  \n",
       "372       1             plymouth horizon miser  \n",
       "373       1                     mercury lynx l  \n",
       "374       3                   nissan stanza xe  \n",
       "375       3                       honda accord  \n",
       "376       3                     toyota corolla  \n",
       "377       3                        honda civic  \n",
       "378       3                 honda civic (auto)  \n",
       "379       3                      datsun 310 gx  \n",
       "380       1              buick century limited  \n",
       "381       1  oldsmobile cutlass ciera (diesel)  \n",
       "382       1         chrysler lebaron medallion  \n",
       "383       1                     ford granada l  \n",
       "384       3                   toyota celica gt  \n",
       "385       1                  dodge charger 2.2  \n",
       "386       1                   chevrolet camaro  \n",
       "387       1                    ford mustang gl  \n",
       "388       2                          vw pickup  \n",
       "389       1                      dodge rampage  \n",
       "390       1                        ford ranger  \n",
       "391       1                         chevy s-10  "
      ]
     },
     "execution_count": 78,
     "metadata": {},
     "output_type": "execute_result"
    }
   ],
   "source": [
    "# select rows by boolens\n",
    "idx_80=auto['year'] >80\n",
    "idx_80\n",
    "auto[idx_80]"
   ]
  },
  {
   "cell_type": "code",
   "execution_count": 79,
   "id": "47b09d1a",
   "metadata": {},
   "outputs": [],
   "source": [
    "auto[['mpg','year']]; # mutiple colums using"
   ]
  },
  {
   "cell_type": "code",
   "execution_count": 84,
   "id": "a3b86651",
   "metadata": {},
   "outputs": [],
   "source": [
    "auto_re=auto.set_index(\"name\")"
   ]
  },
  {
   "cell_type": "code",
   "execution_count": 85,
   "id": "0544317a",
   "metadata": {},
   "outputs": [
    {
     "data": {
      "text/plain": [
       "Index(['mpg', 'cylinders', 'displacement', 'horsepower', 'weight',\n",
       "       'acceleration', 'year', 'origin'],\n",
       "      dtype='object')"
      ]
     },
     "execution_count": 85,
     "metadata": {},
     "output_type": "execute_result"
    }
   ],
   "source": [
    "auto_re.columns"
   ]
  },
  {
   "cell_type": "code",
   "execution_count": 86,
   "id": "0b675a30",
   "metadata": {},
   "outputs": [
    {
     "data": {
      "text/html": [
       "<div>\n",
       "<style scoped>\n",
       "    .dataframe tbody tr th:only-of-type {\n",
       "        vertical-align: middle;\n",
       "    }\n",
       "\n",
       "    .dataframe tbody tr th {\n",
       "        vertical-align: top;\n",
       "    }\n",
       "\n",
       "    .dataframe thead th {\n",
       "        text-align: right;\n",
       "    }\n",
       "</style>\n",
       "<table border=\"1\" class=\"dataframe\">\n",
       "  <thead>\n",
       "    <tr style=\"text-align: right;\">\n",
       "      <th></th>\n",
       "      <th>mpg</th>\n",
       "      <th>cylinders</th>\n",
       "      <th>displacement</th>\n",
       "      <th>horsepower</th>\n",
       "      <th>weight</th>\n",
       "      <th>acceleration</th>\n",
       "      <th>year</th>\n",
       "      <th>origin</th>\n",
       "    </tr>\n",
       "    <tr>\n",
       "      <th>name</th>\n",
       "      <th></th>\n",
       "      <th></th>\n",
       "      <th></th>\n",
       "      <th></th>\n",
       "      <th></th>\n",
       "      <th></th>\n",
       "      <th></th>\n",
       "      <th></th>\n",
       "    </tr>\n",
       "  </thead>\n",
       "  <tbody>\n",
       "    <tr>\n",
       "      <th>amc rebel sst</th>\n",
       "      <td>16.0</td>\n",
       "      <td>8</td>\n",
       "      <td>304.0</td>\n",
       "      <td>150</td>\n",
       "      <td>3433</td>\n",
       "      <td>12.0</td>\n",
       "      <td>70</td>\n",
       "      <td>1</td>\n",
       "    </tr>\n",
       "    <tr>\n",
       "      <th>ford torino</th>\n",
       "      <td>17.0</td>\n",
       "      <td>8</td>\n",
       "      <td>302.0</td>\n",
       "      <td>140</td>\n",
       "      <td>3449</td>\n",
       "      <td>10.5</td>\n",
       "      <td>70</td>\n",
       "      <td>1</td>\n",
       "    </tr>\n",
       "  </tbody>\n",
       "</table>\n",
       "</div>"
      ],
      "text/plain": [
       "                mpg  cylinders  displacement  horsepower  weight  \\\n",
       "name                                                               \n",
       "amc rebel sst  16.0          8         304.0         150    3433   \n",
       "ford torino    17.0          8         302.0         140    3449   \n",
       "\n",
       "               acceleration  year  origin  \n",
       "name                                       \n",
       "amc rebel sst          12.0    70       1  \n",
       "ford torino            10.5    70       1  "
      ]
     },
     "execution_count": 86,
     "metadata": {},
     "output_type": "execute_result"
    }
   ],
   "source": [
    "rows=[\"amc rebel sst\",\"ford torino\"]\n",
    "auto_re.loc[rows]"
   ]
  },
  {
   "cell_type": "code",
   "execution_count": 89,
   "id": "fb39725f",
   "metadata": {},
   "outputs": [
    {
     "ename": "TypeError",
     "evalue": "__call__() takes from 1 to 2 positional arguments but 3 were given",
     "output_type": "error",
     "traceback": [
      "\u001b[0;31m---------------------------------------------------------------------------\u001b[0m",
      "\u001b[0;31mTypeError\u001b[0m                                 Traceback (most recent call last)",
      "Input \u001b[0;32mIn [89]\u001b[0m, in \u001b[0;36m<cell line: 1>\u001b[0;34m()\u001b[0m\n\u001b[0;32m----> 1\u001b[0m \u001b[43mauto_re\u001b[49m\u001b[38;5;241;43m.\u001b[39;49m\u001b[43mloc\u001b[49m\u001b[43m(\u001b[49m\u001b[43m[\u001b[49m\u001b[38;5;241;43m3\u001b[39;49m\u001b[43m,\u001b[49m\u001b[38;5;241;43m4\u001b[39;49m\u001b[43m]\u001b[49m\u001b[43m,\u001b[49m\u001b[43m[\u001b[49m\u001b[38;5;241;43m0\u001b[39;49m\u001b[43m,\u001b[49m\u001b[38;5;241;43m2\u001b[39;49m\u001b[43m,\u001b[49m\u001b[38;5;241;43m3\u001b[39;49m\u001b[43m]\u001b[49m\u001b[43m)\u001b[49m\n",
      "\u001b[0;31mTypeError\u001b[0m: __call__() takes from 1 to 2 positional arguments but 3 were given"
     ]
    }
   ],
   "source": [
    "auto_re.loc([3,4],[0,2,3])"
   ]
  },
  {
   "cell_type": "code",
   "execution_count": null,
   "id": "3105817f",
   "metadata": {},
   "outputs": [],
   "source": [
    "auto_re.loc"
   ]
  },
  {
   "cell_type": "code",
   "execution_count": 24,
   "id": "339231dd-9df7-4506-b381-1a434d5377c1",
   "metadata": {},
   "outputs": [],
   "source": [
    "# GRADED FUNCTION: L2\n",
    "\n",
    "def L2(yhat, y):\n",
    "    \"\"\"\n",
    "    Arguments:\n",
    "    yhat -- vector of size m (predicted labels)\n",
    "    y -- vector of size m (true labels)\n",
    "    \n",
    "    Returns:\n",
    "    loss -- the value of the L2 loss function defined above\n",
    "    \"\"\"\n",
    "    \n",
    "    #(≈ 1 line of code)\n",
    "    # loss = ...\n",
    "    # YOUR CODE STARTS HERE\n",
    "    loss = ((yhat - y) ** 2).mean()\n",
    "    \n",
    "    # YOUR CODE ENDS HERE\n",
    "    \n",
    "    return loss"
   ]
  },
  {
   "cell_type": "code",
   "execution_count": 52,
   "id": "08a0fb09-fb8a-4af8-a44a-bdf40980d8ae",
   "metadata": {},
   "outputs": [
    {
     "name": "stdout",
     "output_type": "stream",
     "text": [
      "L2 = 0.086\n"
     ]
    }
   ],
   "source": [
    "yhat = np.array([.9, 0.2, 0.1, .4, .9])\n",
    "y = np.array([1, 0, 0, 1, 1])\n",
    "\n",
    "print(\"L2 = \" + str(L2(yhat, y)))\n",
    "\n",
    "L2_test(L2)"
   ]
  },
  {
   "cell_type": "markdown",
   "id": "6941b7e0-f1fb-4077-b3cd-7bf98d0c4eea",
   "metadata": {},
   "source": [
    "# Exerciese 2: Calculate Covariance Matrix\n",
    "\n",
    "Write a Python function that calculates the covariance matrix from a list of vectors. Assume that the input list represents a dataset where each vector is a feature, and vectors are of equal length."
   ]
  },
  {
   "cell_type": "code",
   "execution_count": null,
   "id": "caf59568-a435-47b3-af19-075c34b67f8d",
   "metadata": {},
   "outputs": [],
   "source": [
    "import numpy as np\n",
    "\n",
    "def calculate_covariance_matrix(vector):\n",
    "    \"\"\"\n",
    "    Arguements:\n",
    "    vectors: input vector\n",
    "\n",
    "    Returns:\n",
    "    covariance_matrix of the input vector\n",
    "    \"\"\"\n",
    "\n",
    "    return covariance_matrix"
   ]
  },
  {
   "cell_type": "code",
   "execution_count": null,
   "id": "ca69b797-259a-4a1a-9be6-7c1801842bdb",
   "metadata": {},
   "outputs": [],
   "source": [
    "# Test case: Dataset represented as a list of vectors\n",
    "vectors = [\n",
    "    [2.1, 2.5, 3.6, 4.0],\n",
    "    [8.0, 7.5, 6.3, 5.9],\n",
    "    [1.0, 0.5, 0.8, 1.2]\n",
    "]\n",
    "\n",
    "covariance_matrix = calculate_covariance_matrix(vectors)\n",
    "print(\"Covariance Matrix:\")\n",
    "print(covariance_matrix)"
   ]
  }
 ],
 "metadata": {
  "kernelspec": {
   "display_name": "Python 3 (ipykernel)",
   "language": "python",
   "name": "python3"
  },
  "language_info": {
   "codemirror_mode": {
    "name": "ipython",
    "version": 3
   },
   "file_extension": ".py",
   "mimetype": "text/x-python",
   "name": "python",
   "nbconvert_exporter": "python",
   "pygments_lexer": "ipython3",
   "version": "3.9.12"
  }
 },
 "nbformat": 4,
 "nbformat_minor": 5
}
