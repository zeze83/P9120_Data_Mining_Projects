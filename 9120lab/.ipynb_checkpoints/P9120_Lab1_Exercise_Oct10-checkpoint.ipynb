{
 "cells": [
  {
   "cell_type": "raw",
   "id": "daa9783a-8a7f-43bc-b96a-30b22aa7554a",
   "metadata": {},
   "source": [
    "# Exericse 1: L2 loss\n",
    "\n",
    "Implement the numpy vectorized version of the L2 loss. There are several way of implementing the L2 loss but you may find the function np.dot() useful. As a reminder, if $x = [x_1, x_2, ..., x_n]$, then `np.dot(x,x)` = $\\sum_{j=1}^n x_j^{2}$. \n",
    "\n",
    "- L2 loss is defined as $$\\begin{align*} & L_2(\\hat{y},y) = \\sum_{i=0}^{m-1}(y^{(i)} - \\hat{y}^{(i)})^2 \\end{align*}\\tag{7}$$"
   ]
  },
  {
   "cell_type": "code",
   "execution_count": 10,
   "id": "339231dd-9df7-4506-b381-1a434d5377c1",
   "metadata": {},
   "outputs": [],
   "source": [
    "# GRADED FUNCTION: L2\n",
    "import numpy as np\n",
    "def L2(yhat, y):\n",
    "    \"\"\"\n",
    "    Arguments:\n",
    "    yhat -- vector of size m (predicted labels)\n",
    "    y -- vector of size m (true labels)\n",
    "    \n",
    "    Returns:\n",
    "    loss -- the value of the L2 loss function defined above\n",
    "    \"\"\"\n",
    "    \n",
    "    #(≈ 1 line of code)\n",
    "    # loss = ...\n",
    "    # YOUR CODE STARTS HERE\n",
    "    loss = np.dot(yhat, y)\n",
    "    # YOUR CODE ENDS HERE\n",
    "    \n",
    "    return loss"
   ]
  },
  {
   "cell_type": "code",
   "execution_count": 11,
   "id": "08a0fb09-fb8a-4af8-a44a-bdf40980d8ae",
   "metadata": {},
   "outputs": [
    {
     "name": "stdout",
     "output_type": "stream",
     "text": [
      "L2 = 2.2\n"
     ]
    }
   ],
   "source": [
    "yhat = np.array([.9, 0.2, 0.1, .4, .9])\n",
    "y = np.array([1, 0, 0, 1, 1])\n",
    "\n",
    "print(\"L2 = \" + str(L2(yhat, y)))"
   ]
  },
  {
   "cell_type": "markdown",
   "id": "6941b7e0-f1fb-4077-b3cd-7bf98d0c4eea",
   "metadata": {},
   "source": [
    "# Exerciese 2: Calculate Covariance Matrix\n",
    "\n",
    "Write a Python function that calculates the covariance matrix from a list of vectors. Assume that the input list represents a dataset where each vector is a feature, and vectors are of equal length."
   ]
  },
  {
   "cell_type": "code",
   "execution_count": 12,
   "id": "caf59568-a435-47b3-af19-075c34b67f8d",
   "metadata": {},
   "outputs": [],
   "source": [
    "import numpy as np\n",
    "\n",
    "def calculate_covariance_matrix(vector):\n",
    "    \"\"\"\n",
    "    Arguements:\n",
    "    vectors: input vector\n",
    "\n",
    "    Returns:\n",
    "    covariance_matrix of the input vector\n",
    "    \"\"\"\n",
    "    covariance_matrix = np.cov(vector)\n",
    "    return covariance_matrix"
   ]
  },
  {
   "cell_type": "code",
   "execution_count": 13,
   "id": "ca69b797-259a-4a1a-9be6-7c1801842bdb",
   "metadata": {},
   "outputs": [
    {
     "name": "stdout",
     "output_type": "stream",
     "text": [
      "Covariance Matrix:\n",
      "[[ 0.80333333 -0.885       0.11833333]\n",
      " [-0.885       0.97583333 -0.1225    ]\n",
      " [ 0.11833333 -0.1225      0.08916667]]\n"
     ]
    }
   ],
   "source": [
    "# Test case: Dataset represented as a list of vectors\n",
    "vectors = [\n",
    "    [2.1, 2.5, 3.6, 4.0],\n",
    "    [8.0, 7.5, 6.3, 5.9],\n",
    "    [1.0, 0.5, 0.8, 1.2]\n",
    "]\n",
    "\n",
    "covariance_matrix = calculate_covariance_matrix(vectors)\n",
    "print(\"Covariance Matrix:\")\n",
    "print(covariance_matrix)"
   ]
  }
 ],
 "metadata": {
  "kernelspec": {
   "display_name": "Python 3 (ipykernel)",
   "language": "python",
   "name": "python3"
  },
  "language_info": {
   "codemirror_mode": {
    "name": "ipython",
    "version": 3
   },
   "file_extension": ".py",
   "mimetype": "text/x-python",
   "name": "python",
   "nbconvert_exporter": "python",
   "pygments_lexer": "ipython3",
   "version": "3.13.0"
  }
 },
 "nbformat": 4,
 "nbformat_minor": 5
}
